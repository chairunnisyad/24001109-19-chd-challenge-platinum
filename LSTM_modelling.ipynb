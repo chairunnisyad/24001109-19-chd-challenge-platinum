{
 "cells": [
  {
   "cell_type": "markdown",
   "metadata": {},
   "source": [
    "# Import Libraries"
   ]
  },
  {
   "cell_type": "code",
   "execution_count": 1,
   "metadata": {},
   "outputs": [
    {
     "name": "stderr",
     "output_type": "stream",
     "text": [
      "[nltk_data] Downloading package stopwords to\n",
      "[nltk_data]     C:\\Users\\Admin\\AppData\\Roaming\\nltk_data...\n",
      "[nltk_data]   Package stopwords is already up-to-date!\n",
      "[nltk_data] Downloading package punkt to\n",
      "[nltk_data]     C:\\Users\\Admin\\AppData\\Roaming\\nltk_data...\n",
      "[nltk_data]   Package punkt is already up-to-date!\n"
     ]
    }
   ],
   "source": [
    "import pandas as pd\n",
    "import pickle\n",
    "import numpy as np\n",
    "import tensorflow as tf\n",
    "import matplotlib.pyplot as plt\n",
    "import re\n",
    "import nltk\n",
    "import warnings\n",
    "warnings.filterwarnings('ignore')\n",
    "\n",
    "from nltk.corpus import stopwords\n",
    "nltk.download('stopwords')\n",
    "nltk.download('punkt')\n",
    "from Sastrawi.Stemmer.StemmerFactory import StemmerFactory\n",
    "\n",
    "from tensorflow.keras.preprocessing.sequence import pad_sequences\n",
    "from tensorflow.keras.layers import Embedding, LSTM, Dense, Dropout, Bidirectional, Flatten\n",
    "from tensorflow.keras.preprocessing.text import Tokenizer\n",
    "from sklearn.feature_extraction.text import TfidfVectorizer\n",
    "from sklearn.metrics import accuracy_score\n",
    "from keras.models import load_model\n",
    "\n",
    "factory = StemmerFactory()\n",
    "stemmer = factory.create_stemmer()\n",
    "list_stopwords = set(stopwords.words('indonesian'))"
   ]
  },
  {
   "cell_type": "markdown",
   "metadata": {},
   "source": [
    "# Data overview after preprocessing"
   ]
  },
  {
   "cell_type": "code",
   "execution_count": 2,
   "metadata": {},
   "outputs": [
    {
     "data": {
      "text/html": [
       "<div>\n",
       "<style scoped>\n",
       "    .dataframe tbody tr th:only-of-type {\n",
       "        vertical-align: middle;\n",
       "    }\n",
       "\n",
       "    .dataframe tbody tr th {\n",
       "        vertical-align: top;\n",
       "    }\n",
       "\n",
       "    .dataframe thead th {\n",
       "        text-align: right;\n",
       "    }\n",
       "</style>\n",
       "<table border=\"1\" class=\"dataframe\">\n",
       "  <thead>\n",
       "    <tr style=\"text-align: right;\">\n",
       "      <th></th>\n",
       "      <th>Text</th>\n",
       "      <th>Text_Cleansing</th>\n",
       "      <th>Text_Preprocessing</th>\n",
       "      <th>Sentiment</th>\n",
       "    </tr>\n",
       "  </thead>\n",
       "  <tbody>\n",
       "    <tr>\n",
       "      <th>0</th>\n",
       "      <td>warung ini dimiliki oleh pengusaha pabrik tahu...</td>\n",
       "      <td>warung ini dimiliki oleh pengusaha pabrik tahu...</td>\n",
       "      <td>warung milik usaha pabrik puluh kenal putih ba...</td>\n",
       "      <td>positive</td>\n",
       "    </tr>\n",
       "    <tr>\n",
       "      <th>1</th>\n",
       "      <td>mohon ulama lurus dan k212 mmbri hujjah partai...</td>\n",
       "      <td>mohon ulama lurus dan k mmbri hujjah partai ap...</td>\n",
       "      <td>mohon ulama lurus k mmbri hujjah partai diwlh ...</td>\n",
       "      <td>neutral</td>\n",
       "    </tr>\n",
       "    <tr>\n",
       "      <th>2</th>\n",
       "      <td>lokasi strategis di jalan sumatera bandung . t...</td>\n",
       "      <td>lokasi strategis di jalan sumatra bandung temp...</td>\n",
       "      <td>lokasi strategis jalan sumatra bandung nya nya...</td>\n",
       "      <td>positive</td>\n",
       "    </tr>\n",
       "    <tr>\n",
       "      <th>3</th>\n",
       "      <td>betapa bahagia nya diri ini saat unboxing pake...</td>\n",
       "      <td>betapa bahagia nya diri ini saat unbog paket d...</td>\n",
       "      <td>betapa bahagia nya unbog paket barang nya bagu...</td>\n",
       "      <td>positive</td>\n",
       "    </tr>\n",
       "    <tr>\n",
       "      <th>4</th>\n",
       "      <td>duh . jadi mahasiswa jangan sombong dong . kas...</td>\n",
       "      <td>aduh jadi mahasiswa jangan sombong dong kasih ...</td>\n",
       "      <td>aduh mahasiswa sombong kasih kartu kuning ajar...</td>\n",
       "      <td>negative</td>\n",
       "    </tr>\n",
       "  </tbody>\n",
       "</table>\n",
       "</div>"
      ],
      "text/plain": [
       "                                                Text  \\\n",
       "0  warung ini dimiliki oleh pengusaha pabrik tahu...   \n",
       "1  mohon ulama lurus dan k212 mmbri hujjah partai...   \n",
       "2  lokasi strategis di jalan sumatera bandung . t...   \n",
       "3  betapa bahagia nya diri ini saat unboxing pake...   \n",
       "4  duh . jadi mahasiswa jangan sombong dong . kas...   \n",
       "\n",
       "                                      Text_Cleansing  \\\n",
       "0  warung ini dimiliki oleh pengusaha pabrik tahu...   \n",
       "1  mohon ulama lurus dan k mmbri hujjah partai ap...   \n",
       "2  lokasi strategis di jalan sumatra bandung temp...   \n",
       "3  betapa bahagia nya diri ini saat unbog paket d...   \n",
       "4  aduh jadi mahasiswa jangan sombong dong kasih ...   \n",
       "\n",
       "                                  Text_Preprocessing Sentiment  \n",
       "0  warung milik usaha pabrik puluh kenal putih ba...  positive  \n",
       "1  mohon ulama lurus k mmbri hujjah partai diwlh ...   neutral  \n",
       "2  lokasi strategis jalan sumatra bandung nya nya...  positive  \n",
       "3  betapa bahagia nya unbog paket barang nya bagu...  positive  \n",
       "4  aduh mahasiswa sombong kasih kartu kuning ajar...  negative  "
      ]
     },
     "execution_count": 2,
     "metadata": {},
     "output_type": "execute_result"
    }
   ],
   "source": [
    "df = pd.read_csv('final_cleaned_data.csv')\n",
    "df.head()"
   ]
  },
  {
   "cell_type": "markdown",
   "metadata": {},
   "source": [
    "Cek Isi berdasarkan index"
   ]
  },
  {
   "cell_type": "code",
   "execution_count": 3,
   "metadata": {},
   "outputs": [
    {
     "name": "stdout",
     "output_type": "stream",
     "text": [
      "Teks Awal : kebaikan\n",
      "Teks Preprocessed : baik\n"
     ]
    }
   ],
   "source": [
    "idx = 787\n",
    "print('Teks Awal :',df['Text'][idx])\n",
    "print('Teks Preprocessed :',df['Text_Preprocessing'][idx])"
   ]
  },
  {
   "cell_type": "markdown",
   "metadata": {},
   "source": [
    "TF-IDF"
   ]
  },
  {
   "cell_type": "code",
   "execution_count": 18,
   "metadata": {},
   "outputs": [],
   "source": [
    "# from sklearn.feature_extraction.text import TfidfVectorizer\n",
    "\n",
    "# tfidf = TfidfVectorizer()\n",
    "# X = tfidf.fit_transform(df['Text_Preprocessing'].apply(lambda x: np.str_(x)))"
   ]
  },
  {
   "cell_type": "code",
   "execution_count": 19,
   "metadata": {},
   "outputs": [],
   "source": [
    "# X"
   ]
  },
  {
   "cell_type": "markdown",
   "metadata": {},
   "source": [
    "# Assign to specific x dan y"
   ]
  },
  {
   "cell_type": "code",
   "execution_count": 4,
   "metadata": {},
   "outputs": [
    {
     "data": {
      "text/plain": [
       "(11000, 55)"
      ]
     },
     "execution_count": 4,
     "metadata": {},
     "output_type": "execute_result"
    }
   ],
   "source": [
    "X = df['Text_Preprocessing'].astype(str)\n",
    "max_features = 100000\n",
    "\n",
    "# Tokenisasi\n",
    "tokenizer = Tokenizer(num_words=max_features)\n",
    "tokenizer.fit_on_texts(X)\n",
    "X = tokenizer.texts_to_sequences(X)\n",
    "\n",
    "# Padding\n",
    "X = pad_sequences(X, maxlen=55)\n",
    "\n",
    "# Menampilkan bentuk akhir dari data\n",
    "X.shape"
   ]
  },
  {
   "cell_type": "code",
   "execution_count": 21,
   "metadata": {},
   "outputs": [
    {
     "name": "stdout",
     "output_type": "stream",
     "text": [
      "Tokenizer berhasil disimpan!\n"
     ]
    }
   ],
   "source": [
    "import pickle\n",
    "with open('tokenizer.pickle', 'wb') as handle:\n",
    "    pickle.dump(tokenizer, handle, protocol=pickle.HIGHEST_PROTOCOL)\n",
    "print(\"Tokenizer berhasil disimpan!\")"
   ]
  },
  {
   "cell_type": "code",
   "execution_count": 22,
   "metadata": {},
   "outputs": [
    {
     "name": "stdout",
     "output_type": "stream",
     "text": [
      "Text_Preprocessing.pickle has created!\n"
     ]
    }
   ],
   "source": [
    "import pickle\n",
    "\n",
    "with open('Text_Preprocessing.pickle', 'wb') as handle:\n",
    "    pickle.dump(X, handle, protocol=pickle.HIGHEST_PROTOCOL)\n",
    "    print('Text_Preprocessing.pickle has created!')"
   ]
  },
  {
   "cell_type": "markdown",
   "metadata": {},
   "source": [
    "# Mapping and Assign Label y"
   ]
  },
  {
   "cell_type": "code",
   "execution_count": 5,
   "metadata": {},
   "outputs": [
    {
     "name": "stdout",
     "output_type": "stream",
     "text": [
      "[2 1 2 ... 1 0 2]\n",
      "(11000,)\n"
     ]
    }
   ],
   "source": [
    "# Dilakukan proses mapping karna label y > 2\n",
    "sentiment_encode = {'negative' : 0, 'neutral' : 1, 'positive' : 2}\n",
    "y = df['Sentiment'].map(sentiment_encode).values\n",
    "print(y)\n",
    "print(y.shape)"
   ]
  },
  {
   "cell_type": "markdown",
   "metadata": {},
   "source": [
    "# One Hot Encoder"
   ]
  },
  {
   "cell_type": "code",
   "execution_count": 6,
   "metadata": {},
   "outputs": [
    {
     "name": "stdout",
     "output_type": "stream",
     "text": [
      "(11000, 3)\n"
     ]
    }
   ],
   "source": [
    "from sklearn.preprocessing import OneHotEncoder\n",
    "onehot = OneHotEncoder()\n",
    "onehot.fit(y.reshape(-1,1))\n",
    "# y_hot = onehot.transform(y.reshape(-1,1))\n",
    "y_hot = onehot.transform(y.reshape(-1,1)).toarray()\n",
    "print(y_hot.shape)"
   ]
  },
  {
   "cell_type": "code",
   "execution_count": 25,
   "metadata": {},
   "outputs": [
    {
     "data": {
      "text/plain": [
       "array([[0., 0., 1.],\n",
       "       [0., 1., 0.],\n",
       "       [0., 0., 1.],\n",
       "       [0., 0., 1.],\n",
       "       [1., 0., 0.],\n",
       "       [0., 0., 1.],\n",
       "       [1., 0., 0.],\n",
       "       [0., 0., 1.],\n",
       "       [0., 0., 1.],\n",
       "       [0., 0., 1.]])"
      ]
     },
     "execution_count": 25,
     "metadata": {},
     "output_type": "execute_result"
    }
   ],
   "source": [
    "# Cek Array y_hot 1-10\n",
    "y_hot[0:10]"
   ]
  },
  {
   "cell_type": "code",
   "execution_count": 26,
   "metadata": {},
   "outputs": [
    {
     "name": "stdout",
     "output_type": "stream",
     "text": [
      "y_label.pickle has created!\n"
     ]
    }
   ],
   "source": [
    "import pickle\n",
    "\n",
    "with open('y_label.pickle', 'wb') as handle:\n",
    "    pickle.dump(y_hot, handle, protocol=pickle.HIGHEST_PROTOCOL)\n",
    "    print('y_label.pickle has created!')"
   ]
  },
  {
   "cell_type": "markdown",
   "metadata": {},
   "source": [
    "# Splitting Data"
   ]
  },
  {
   "cell_type": "code",
   "execution_count": 27,
   "metadata": {},
   "outputs": [],
   "source": [
    "# from sklearn.model_selection import train_test_split\n",
    "\n",
    "# file = open(\"x_pad_sequences.pickle\",'rb')\n",
    "# X = pickle.load(file)\n",
    "# file.close()\n",
    "\n",
    "# file = open(\"y_labels.pickle\",'rb')\n",
    "# y_hot = pickle.load(file)\n",
    "# file.close()\n",
    "\n",
    "# X_train, X_test, y_train, y_test = train_test_split(X, y_hot, test_size=0.2, random_state=1)"
   ]
  },
  {
   "cell_type": "code",
   "execution_count": 7,
   "metadata": {},
   "outputs": [
    {
     "name": "stdout",
     "output_type": "stream",
     "text": [
      "(8800, 55) (8800, 3)\n",
      "(2200, 55) (2200, 3)\n"
     ]
    }
   ],
   "source": [
    "#dataset split\n",
    "from sklearn.model_selection import train_test_split\n",
    "X_train, X_val, y_train, y_val = train_test_split(X, y_hot, test_size=0.20, random_state=1)\n",
    "print(X_train.shape, y_train.shape)\n",
    "print(X_val.shape, y_val.shape)"
   ]
  },
  {
   "cell_type": "markdown",
   "metadata": {},
   "source": [
    "# Modelling"
   ]
  },
  {
   "cell_type": "markdown",
   "metadata": {},
   "source": [
    "### 1. LSTM (Long Short Term Memory)"
   ]
  },
  {
   "cell_type": "markdown",
   "metadata": {},
   "source": [
    "a. Arsitektur Model LSTM"
   ]
  },
  {
   "cell_type": "code",
   "execution_count": 8,
   "metadata": {},
   "outputs": [
    {
     "data": {
      "text/plain": [
       "55"
      ]
     },
     "execution_count": 8,
     "metadata": {},
     "output_type": "execute_result"
    }
   ],
   "source": [
    "X.shape[1]"
   ]
  },
  {
   "cell_type": "code",
   "execution_count": 12,
   "metadata": {},
   "outputs": [
    {
     "data": {
      "text/html": [
       "<pre style=\"white-space:pre;overflow-x:auto;line-height:normal;font-family:Menlo,'DejaVu Sans Mono',consolas,'Courier New',monospace\"><span style=\"font-weight: bold\">Model: \"sequential_2\"</span>\n",
       "</pre>\n"
      ],
      "text/plain": [
       "\u001b[1mModel: \"sequential_2\"\u001b[0m\n"
      ]
     },
     "metadata": {},
     "output_type": "display_data"
    },
    {
     "data": {
      "text/html": [
       "<pre style=\"white-space:pre;overflow-x:auto;line-height:normal;font-family:Menlo,'DejaVu Sans Mono',consolas,'Courier New',monospace\">┏━━━━━━━━━━━━━━━━━━━━━━━━━━━━━━━━━┳━━━━━━━━━━━━━━━━━━━━━━━━┳━━━━━━━━━━━━━━━┓\n",
       "┃<span style=\"font-weight: bold\"> Layer (type)                    </span>┃<span style=\"font-weight: bold\"> Output Shape           </span>┃<span style=\"font-weight: bold\">       Param # </span>┃\n",
       "┡━━━━━━━━━━━━━━━━━━━━━━━━━━━━━━━━━╇━━━━━━━━━━━━━━━━━━━━━━━━╇━━━━━━━━━━━━━━━┩\n",
       "│ embedding_2 (<span style=\"color: #0087ff; text-decoration-color: #0087ff\">Embedding</span>)         │ ?                      │   <span style=\"color: #00af00; text-decoration-color: #00af00\">0</span> (unbuilt) │\n",
       "├─────────────────────────────────┼────────────────────────┼───────────────┤\n",
       "│ lstm_2 (<span style=\"color: #0087ff; text-decoration-color: #0087ff\">LSTM</span>)                   │ ?                      │   <span style=\"color: #00af00; text-decoration-color: #00af00\">0</span> (unbuilt) │\n",
       "├─────────────────────────────────┼────────────────────────┼───────────────┤\n",
       "│ dropout_2 (<span style=\"color: #0087ff; text-decoration-color: #0087ff\">Dropout</span>)             │ ?                      │   <span style=\"color: #00af00; text-decoration-color: #00af00\">0</span> (unbuilt) │\n",
       "├─────────────────────────────────┼────────────────────────┼───────────────┤\n",
       "│ dense_2 (<span style=\"color: #0087ff; text-decoration-color: #0087ff\">Dense</span>)                 │ ?                      │   <span style=\"color: #00af00; text-decoration-color: #00af00\">0</span> (unbuilt) │\n",
       "└─────────────────────────────────┴────────────────────────┴───────────────┘\n",
       "</pre>\n"
      ],
      "text/plain": [
       "┏━━━━━━━━━━━━━━━━━━━━━━━━━━━━━━━━━┳━━━━━━━━━━━━━━━━━━━━━━━━┳━━━━━━━━━━━━━━━┓\n",
       "┃\u001b[1m \u001b[0m\u001b[1mLayer (type)                   \u001b[0m\u001b[1m \u001b[0m┃\u001b[1m \u001b[0m\u001b[1mOutput Shape          \u001b[0m\u001b[1m \u001b[0m┃\u001b[1m \u001b[0m\u001b[1m      Param #\u001b[0m\u001b[1m \u001b[0m┃\n",
       "┡━━━━━━━━━━━━━━━━━━━━━━━━━━━━━━━━━╇━━━━━━━━━━━━━━━━━━━━━━━━╇━━━━━━━━━━━━━━━┩\n",
       "│ embedding_2 (\u001b[38;5;33mEmbedding\u001b[0m)         │ ?                      │   \u001b[38;5;34m0\u001b[0m (unbuilt) │\n",
       "├─────────────────────────────────┼────────────────────────┼───────────────┤\n",
       "│ lstm_2 (\u001b[38;5;33mLSTM\u001b[0m)                   │ ?                      │   \u001b[38;5;34m0\u001b[0m (unbuilt) │\n",
       "├─────────────────────────────────┼────────────────────────┼───────────────┤\n",
       "│ dropout_2 (\u001b[38;5;33mDropout\u001b[0m)             │ ?                      │   \u001b[38;5;34m0\u001b[0m (unbuilt) │\n",
       "├─────────────────────────────────┼────────────────────────┼───────────────┤\n",
       "│ dense_2 (\u001b[38;5;33mDense\u001b[0m)                 │ ?                      │   \u001b[38;5;34m0\u001b[0m (unbuilt) │\n",
       "└─────────────────────────────────┴────────────────────────┴───────────────┘\n"
      ]
     },
     "metadata": {},
     "output_type": "display_data"
    },
    {
     "data": {
      "text/html": [
       "<pre style=\"white-space:pre;overflow-x:auto;line-height:normal;font-family:Menlo,'DejaVu Sans Mono',consolas,'Courier New',monospace\"><span style=\"font-weight: bold\"> Total params: </span><span style=\"color: #00af00; text-decoration-color: #00af00\">0</span> (0.00 B)\n",
       "</pre>\n"
      ],
      "text/plain": [
       "\u001b[1m Total params: \u001b[0m\u001b[38;5;34m0\u001b[0m (0.00 B)\n"
      ]
     },
     "metadata": {},
     "output_type": "display_data"
    },
    {
     "data": {
      "text/html": [
       "<pre style=\"white-space:pre;overflow-x:auto;line-height:normal;font-family:Menlo,'DejaVu Sans Mono',consolas,'Courier New',monospace\"><span style=\"font-weight: bold\"> Trainable params: </span><span style=\"color: #00af00; text-decoration-color: #00af00\">0</span> (0.00 B)\n",
       "</pre>\n"
      ],
      "text/plain": [
       "\u001b[1m Trainable params: \u001b[0m\u001b[38;5;34m0\u001b[0m (0.00 B)\n"
      ]
     },
     "metadata": {},
     "output_type": "display_data"
    },
    {
     "data": {
      "text/html": [
       "<pre style=\"white-space:pre;overflow-x:auto;line-height:normal;font-family:Menlo,'DejaVu Sans Mono',consolas,'Courier New',monospace\"><span style=\"font-weight: bold\"> Non-trainable params: </span><span style=\"color: #00af00; text-decoration-color: #00af00\">0</span> (0.00 B)\n",
       "</pre>\n"
      ],
      "text/plain": [
       "\u001b[1m Non-trainable params: \u001b[0m\u001b[38;5;34m0\u001b[0m (0.00 B)\n"
      ]
     },
     "metadata": {},
     "output_type": "display_data"
    }
   ],
   "source": [
    "epoch = 100\n",
    "embed_dim = 25\n",
    "maxlen = 55\n",
    "# max_features = 100000\n",
    "\n",
    "# Model LSTM\n",
    "model_lstm = tf.keras.models.Sequential([ # inisialisasi model\n",
    "    tf.keras.layers.Embedding(input_dim=max_features, output_dim=embed_dim, input_length=maxlen), # memetakan text ke dalam vektor\n",
    "    # tf.keras.layers.LSTM(128, return_sequences=True), # hidden layer 1\n",
    "    tf.keras.layers.LSTM(64, activation='tanh'), # hidden layer 2\n",
    "    tf.keras.layers.Dropout(0.2), \n",
    "    tf.keras.layers.Dense(3, activation='softmax') # layer output\n",
    "])\n",
    "\n",
    "loss_fn = tf.keras.losses.CategoricalCrossentropy(from_logits=False) # mendefinisikan loss function\n",
    "\n",
    "es = tf.keras.callbacks.EarlyStopping(\n",
    "    monitor='val_loss', # Memantau val_loss pada data validasi\n",
    "    mode='min', # Proses pelatihan akan berhenti ketika val_loss tidak berkurang\n",
    "    verbose=1, # Menampilkan pesan ketika Early Stopping diaktifkan\n",
    "    patience=15, # Pelatihan akan berhenti jika val_loss tidak membaik setelah 50 epoch\n",
    "    restore_best_weights=True\n",
    ")\n",
    "\n",
    "# adam = tf.optimizers.Adam(learning_rate=0.0001) # Defini optimizer Adam (Adaptive Moment Estimation)\n",
    "sgd = tf.keras.optimizers.SGD(learning_rate=0.075) # Defini optimizer SGD (Stochastic Gradient Descent)\n",
    "\n",
    "model_lstm.compile(optimizer='sgd',\n",
    "              loss=loss_fn,\n",
    "              metrics=['accuracy'])\n",
    "\n",
    "\n",
    "model_lstm.summary() # summary model"
   ]
  },
  {
   "cell_type": "markdown",
   "metadata": {},
   "source": [
    "b. Training"
   ]
  },
  {
   "cell_type": "code",
   "execution_count": 30,
   "metadata": {},
   "outputs": [
    {
     "name": "stdout",
     "output_type": "stream",
     "text": [
      "Epoch 1/100\n",
      "\u001b[1m138/138\u001b[0m \u001b[32m━━━━━━━━━━━━━━━━━━━━\u001b[0m\u001b[37m\u001b[0m \u001b[1m25s\u001b[0m 112ms/step - accuracy: 0.5784 - loss: 1.0253 - val_accuracy: 0.5859 - val_loss: 0.9316\n",
      "Epoch 2/100\n",
      "\u001b[1m138/138\u001b[0m \u001b[32m━━━━━━━━━━━━━━━━━━━━\u001b[0m\u001b[37m\u001b[0m \u001b[1m19s\u001b[0m 98ms/step - accuracy: 0.5802 - loss: 0.9267 - val_accuracy: 0.5859 - val_loss: 0.9144\n",
      "Epoch 3/100\n",
      "\u001b[1m138/138\u001b[0m \u001b[32m━━━━━━━━━━━━━━━━━━━━\u001b[0m\u001b[37m\u001b[0m \u001b[1m14s\u001b[0m 104ms/step - accuracy: 0.5854 - loss: 0.9130 - val_accuracy: 0.5859 - val_loss: 0.9105\n",
      "Epoch 4/100\n",
      "\u001b[1m138/138\u001b[0m \u001b[32m━━━━━━━━━━━━━━━━━━━━\u001b[0m\u001b[37m\u001b[0m \u001b[1m20s\u001b[0m 99ms/step - accuracy: 0.5900 - loss: 0.9017 - val_accuracy: 0.5859 - val_loss: 0.9066\n",
      "Epoch 5/100\n",
      "\u001b[1m138/138\u001b[0m \u001b[32m━━━━━━━━━━━━━━━━━━━━\u001b[0m\u001b[37m\u001b[0m \u001b[1m25s\u001b[0m 130ms/step - accuracy: 0.5856 - loss: 0.8956 - val_accuracy: 0.5859 - val_loss: 0.8988\n",
      "Epoch 6/100\n",
      "\u001b[1m138/138\u001b[0m \u001b[32m━━━━━━━━━━━━━━━━━━━━\u001b[0m\u001b[37m\u001b[0m \u001b[1m16s\u001b[0m 98ms/step - accuracy: 0.5802 - loss: 0.8987 - val_accuracy: 0.5859 - val_loss: 0.8813\n",
      "Epoch 7/100\n",
      "\u001b[1m138/138\u001b[0m \u001b[32m━━━━━━━━━━━━━━━━━━━━\u001b[0m\u001b[37m\u001b[0m \u001b[1m12s\u001b[0m 87ms/step - accuracy: 0.5751 - loss: 0.8841 - val_accuracy: 0.6086 - val_loss: 0.8245\n",
      "Epoch 8/100\n",
      "\u001b[1m138/138\u001b[0m \u001b[32m━━━━━━━━━━━━━━━━━━━━\u001b[0m\u001b[37m\u001b[0m \u001b[1m12s\u001b[0m 83ms/step - accuracy: 0.6253 - loss: 0.8247 - val_accuracy: 0.6709 - val_loss: 0.7703\n",
      "Epoch 9/100\n",
      "\u001b[1m138/138\u001b[0m \u001b[32m━━━━━━━━━━━━━━━━━━━━\u001b[0m\u001b[37m\u001b[0m \u001b[1m26s\u001b[0m 117ms/step - accuracy: 0.6698 - loss: 0.7912 - val_accuracy: 0.6855 - val_loss: 0.7593\n",
      "Epoch 10/100\n",
      "\u001b[1m138/138\u001b[0m \u001b[32m━━━━━━━━━━━━━━━━━━━━\u001b[0m\u001b[37m\u001b[0m \u001b[1m17s\u001b[0m 120ms/step - accuracy: 0.6674 - loss: 0.7878 - val_accuracy: 0.6791 - val_loss: 0.7591\n",
      "Epoch 11/100\n",
      "\u001b[1m138/138\u001b[0m \u001b[32m━━━━━━━━━━━━━━━━━━━━\u001b[0m\u001b[37m\u001b[0m \u001b[1m18s\u001b[0m 100ms/step - accuracy: 0.6806 - loss: 0.7723 - val_accuracy: 0.6923 - val_loss: 0.7527\n",
      "Epoch 12/100\n",
      "\u001b[1m138/138\u001b[0m \u001b[32m━━━━━━━━━━━━━━━━━━━━\u001b[0m\u001b[37m\u001b[0m \u001b[1m12s\u001b[0m 86ms/step - accuracy: 0.6722 - loss: 0.7893 - val_accuracy: 0.6905 - val_loss: 0.7483\n",
      "Epoch 13/100\n",
      "\u001b[1m138/138\u001b[0m \u001b[32m━━━━━━━━━━━━━━━━━━━━\u001b[0m\u001b[37m\u001b[0m \u001b[1m14s\u001b[0m 99ms/step - accuracy: 0.6707 - loss: 0.7860 - val_accuracy: 0.6932 - val_loss: 0.7515\n",
      "Epoch 14/100\n",
      "\u001b[1m138/138\u001b[0m \u001b[32m━━━━━━━━━━━━━━━━━━━━\u001b[0m\u001b[37m\u001b[0m \u001b[1m13s\u001b[0m 91ms/step - accuracy: 0.6808 - loss: 0.7741 - val_accuracy: 0.6964 - val_loss: 0.7422\n",
      "Epoch 15/100\n",
      "\u001b[1m138/138\u001b[0m \u001b[32m━━━━━━━━━━━━━━━━━━━━\u001b[0m\u001b[37m\u001b[0m \u001b[1m13s\u001b[0m 91ms/step - accuracy: 0.6816 - loss: 0.7708 - val_accuracy: 0.6900 - val_loss: 0.7400\n",
      "Epoch 16/100\n",
      "\u001b[1m138/138\u001b[0m \u001b[32m━━━━━━━━━━━━━━━━━━━━\u001b[0m\u001b[37m\u001b[0m \u001b[1m22s\u001b[0m 100ms/step - accuracy: 0.6738 - loss: 0.7754 - val_accuracy: 0.6977 - val_loss: 0.7332\n",
      "Epoch 17/100\n",
      "\u001b[1m138/138\u001b[0m \u001b[32m━━━━━━━━━━━━━━━━━━━━\u001b[0m\u001b[37m\u001b[0m \u001b[1m16s\u001b[0m 115ms/step - accuracy: 0.6777 - loss: 0.7751 - val_accuracy: 0.7005 - val_loss: 0.7276\n",
      "Epoch 18/100\n",
      "\u001b[1m138/138\u001b[0m \u001b[32m━━━━━━━━━━━━━━━━━━━━\u001b[0m\u001b[37m\u001b[0m \u001b[1m15s\u001b[0m 106ms/step - accuracy: 0.6904 - loss: 0.7541 - val_accuracy: 0.7005 - val_loss: 0.7231\n",
      "Epoch 19/100\n",
      "\u001b[1m138/138\u001b[0m \u001b[32m━━━━━━━━━━━━━━━━━━━━\u001b[0m\u001b[37m\u001b[0m \u001b[1m21s\u001b[0m 110ms/step - accuracy: 0.6918 - loss: 0.7453 - val_accuracy: 0.7036 - val_loss: 0.7162\n",
      "Epoch 20/100\n",
      "\u001b[1m138/138\u001b[0m \u001b[32m━━━━━━━━━━━━━━━━━━━━\u001b[0m\u001b[37m\u001b[0m \u001b[1m13s\u001b[0m 96ms/step - accuracy: 0.6915 - loss: 0.7467 - val_accuracy: 0.6986 - val_loss: 0.7112\n",
      "Epoch 21/100\n",
      "\u001b[1m138/138\u001b[0m \u001b[32m━━━━━━━━━━━━━━━━━━━━\u001b[0m\u001b[37m\u001b[0m \u001b[1m13s\u001b[0m 94ms/step - accuracy: 0.6947 - loss: 0.7311 - val_accuracy: 0.7041 - val_loss: 0.6999\n",
      "Epoch 22/100\n",
      "\u001b[1m138/138\u001b[0m \u001b[32m━━━━━━━━━━━━━━━━━━━━\u001b[0m\u001b[37m\u001b[0m \u001b[1m16s\u001b[0m 115ms/step - accuracy: 0.7033 - loss: 0.7227 - val_accuracy: 0.7150 - val_loss: 0.6890\n",
      "Epoch 23/100\n",
      "\u001b[1m138/138\u001b[0m \u001b[32m━━━━━━━━━━━━━━━━━━━━\u001b[0m\u001b[37m\u001b[0m \u001b[1m16s\u001b[0m 113ms/step - accuracy: 0.7030 - loss: 0.7230 - val_accuracy: 0.7168 - val_loss: 0.6758\n",
      "Epoch 24/100\n",
      "\u001b[1m138/138\u001b[0m \u001b[32m━━━━━━━━━━━━━━━━━━━━\u001b[0m\u001b[37m\u001b[0m \u001b[1m13s\u001b[0m 96ms/step - accuracy: 0.7088 - loss: 0.7063 - val_accuracy: 0.7209 - val_loss: 0.6855\n",
      "Epoch 25/100\n",
      "\u001b[1m138/138\u001b[0m \u001b[32m━━━━━━━━━━━━━━━━━━━━\u001b[0m\u001b[37m\u001b[0m \u001b[1m16s\u001b[0m 117ms/step - accuracy: 0.7201 - loss: 0.6836 - val_accuracy: 0.7350 - val_loss: 0.6581\n",
      "Epoch 26/100\n",
      "\u001b[1m138/138\u001b[0m \u001b[32m━━━━━━━━━━━━━━━━━━━━\u001b[0m\u001b[37m\u001b[0m \u001b[1m22s\u001b[0m 122ms/step - accuracy: 0.7274 - loss: 0.6766 - val_accuracy: 0.7382 - val_loss: 0.6444\n",
      "Epoch 27/100\n",
      "\u001b[1m138/138\u001b[0m \u001b[32m━━━━━━━━━━━━━━━━━━━━\u001b[0m\u001b[37m\u001b[0m \u001b[1m19s\u001b[0m 106ms/step - accuracy: 0.7259 - loss: 0.6609 - val_accuracy: 0.5859 - val_loss: 1.0015\n",
      "Epoch 28/100\n",
      "\u001b[1m138/138\u001b[0m \u001b[32m━━━━━━━━━━━━━━━━━━━━\u001b[0m\u001b[37m\u001b[0m \u001b[1m21s\u001b[0m 105ms/step - accuracy: 0.7185 - loss: 0.6977 - val_accuracy: 0.7432 - val_loss: 0.6291\n",
      "Epoch 29/100\n",
      "\u001b[1m138/138\u001b[0m \u001b[32m━━━━━━━━━━━━━━━━━━━━\u001b[0m\u001b[37m\u001b[0m \u001b[1m12s\u001b[0m 89ms/step - accuracy: 0.7358 - loss: 0.6522 - val_accuracy: 0.7468 - val_loss: 0.6214\n",
      "Epoch 30/100\n",
      "\u001b[1m138/138\u001b[0m \u001b[32m━━━━━━━━━━━━━━━━━━━━\u001b[0m\u001b[37m\u001b[0m \u001b[1m21s\u001b[0m 91ms/step - accuracy: 0.7445 - loss: 0.6381 - val_accuracy: 0.7473 - val_loss: 0.6170\n",
      "Epoch 31/100\n",
      "\u001b[1m138/138\u001b[0m \u001b[32m━━━━━━━━━━━━━━━━━━━━\u001b[0m\u001b[37m\u001b[0m \u001b[1m20s\u001b[0m 89ms/step - accuracy: 0.7408 - loss: 0.6417 - val_accuracy: 0.7500 - val_loss: 0.6118\n",
      "Epoch 32/100\n",
      "\u001b[1m138/138\u001b[0m \u001b[32m━━━━━━━━━━━━━━━━━━━━\u001b[0m\u001b[37m\u001b[0m \u001b[1m13s\u001b[0m 91ms/step - accuracy: 0.7441 - loss: 0.6325 - val_accuracy: 0.7482 - val_loss: 0.6117\n",
      "Epoch 33/100\n",
      "\u001b[1m138/138\u001b[0m \u001b[32m━━━━━━━━━━━━━━━━━━━━\u001b[0m\u001b[37m\u001b[0m \u001b[1m13s\u001b[0m 93ms/step - accuracy: 0.7465 - loss: 0.6342 - val_accuracy: 0.7573 - val_loss: 0.5981\n",
      "Epoch 34/100\n",
      "\u001b[1m138/138\u001b[0m \u001b[32m━━━━━━━━━━━━━━━━━━━━\u001b[0m\u001b[37m\u001b[0m \u001b[1m20s\u001b[0m 90ms/step - accuracy: 0.7496 - loss: 0.6196 - val_accuracy: 0.7618 - val_loss: 0.5938\n",
      "Epoch 35/100\n",
      "\u001b[1m138/138\u001b[0m \u001b[32m━━━━━━━━━━━━━━━━━━━━\u001b[0m\u001b[37m\u001b[0m \u001b[1m21s\u001b[0m 93ms/step - accuracy: 0.7505 - loss: 0.6106 - val_accuracy: 0.7573 - val_loss: 0.5848\n",
      "Epoch 36/100\n",
      "\u001b[1m138/138\u001b[0m \u001b[32m━━━━━━━━━━━━━━━━━━━━\u001b[0m\u001b[37m\u001b[0m \u001b[1m13s\u001b[0m 92ms/step - accuracy: 0.7571 - loss: 0.6026 - val_accuracy: 0.7641 - val_loss: 0.5865\n",
      "Epoch 37/100\n",
      "\u001b[1m138/138\u001b[0m \u001b[32m━━━━━━━━━━━━━━━━━━━━\u001b[0m\u001b[37m\u001b[0m \u001b[1m13s\u001b[0m 92ms/step - accuracy: 0.7570 - loss: 0.5911 - val_accuracy: 0.7436 - val_loss: 0.6087\n",
      "Epoch 38/100\n",
      "\u001b[1m138/138\u001b[0m \u001b[32m━━━━━━━━━━━━━━━━━━━━\u001b[0m\u001b[37m\u001b[0m \u001b[1m20s\u001b[0m 86ms/step - accuracy: 0.7572 - loss: 0.5971 - val_accuracy: 0.7555 - val_loss: 0.5817\n",
      "Epoch 39/100\n",
      "\u001b[1m138/138\u001b[0m \u001b[32m━━━━━━━━━━━━━━━━━━━━\u001b[0m\u001b[37m\u001b[0m \u001b[1m22s\u001b[0m 97ms/step - accuracy: 0.7535 - loss: 0.5931 - val_accuracy: 0.7605 - val_loss: 0.5725\n",
      "Epoch 40/100\n",
      "\u001b[1m138/138\u001b[0m \u001b[32m━━━━━━━━━━━━━━━━━━━━\u001b[0m\u001b[37m\u001b[0m \u001b[1m13s\u001b[0m 92ms/step - accuracy: 0.7649 - loss: 0.5847 - val_accuracy: 0.7682 - val_loss: 0.5920\n",
      "Epoch 41/100\n",
      "\u001b[1m138/138\u001b[0m \u001b[32m━━━━━━━━━━━━━━━━━━━━\u001b[0m\u001b[37m\u001b[0m \u001b[1m14s\u001b[0m 100ms/step - accuracy: 0.7614 - loss: 0.5782 - val_accuracy: 0.7705 - val_loss: 0.5703\n",
      "Epoch 42/100\n",
      "\u001b[1m138/138\u001b[0m \u001b[32m━━━━━━━━━━━━━━━━━━━━\u001b[0m\u001b[37m\u001b[0m \u001b[1m19s\u001b[0m 88ms/step - accuracy: 0.7678 - loss: 0.5730 - val_accuracy: 0.7577 - val_loss: 0.5761\n",
      "Epoch 43/100\n",
      "\u001b[1m138/138\u001b[0m \u001b[32m━━━━━━━━━━━━━━━━━━━━\u001b[0m\u001b[37m\u001b[0m \u001b[1m16s\u001b[0m 110ms/step - accuracy: 0.7561 - loss: 0.5797 - val_accuracy: 0.7627 - val_loss: 0.5616\n",
      "Epoch 44/100\n",
      "\u001b[1m138/138\u001b[0m \u001b[32m━━━━━━━━━━━━━━━━━━━━\u001b[0m\u001b[37m\u001b[0m \u001b[1m15s\u001b[0m 105ms/step - accuracy: 0.7733 - loss: 0.5680 - val_accuracy: 0.7714 - val_loss: 0.5618\n",
      "Epoch 45/100\n",
      "\u001b[1m138/138\u001b[0m \u001b[32m━━━━━━━━━━━━━━━━━━━━\u001b[0m\u001b[37m\u001b[0m \u001b[1m20s\u001b[0m 98ms/step - accuracy: 0.7640 - loss: 0.5592 - val_accuracy: 0.7700 - val_loss: 0.5625\n",
      "Epoch 46/100\n",
      "\u001b[1m138/138\u001b[0m \u001b[32m━━━━━━━━━━━━━━━━━━━━\u001b[0m\u001b[37m\u001b[0m \u001b[1m15s\u001b[0m 107ms/step - accuracy: 0.7722 - loss: 0.5598 - val_accuracy: 0.7723 - val_loss: 0.5576\n",
      "Epoch 47/100\n",
      "\u001b[1m138/138\u001b[0m \u001b[32m━━━━━━━━━━━━━━━━━━━━\u001b[0m\u001b[37m\u001b[0m \u001b[1m18s\u001b[0m 90ms/step - accuracy: 0.7708 - loss: 0.5577 - val_accuracy: 0.7691 - val_loss: 0.5560\n",
      "Epoch 48/100\n",
      "\u001b[1m138/138\u001b[0m \u001b[32m━━━━━━━━━━━━━━━━━━━━\u001b[0m\u001b[37m\u001b[0m \u001b[1m13s\u001b[0m 91ms/step - accuracy: 0.7737 - loss: 0.5470 - val_accuracy: 0.7727 - val_loss: 0.5611\n",
      "Epoch 49/100\n",
      "\u001b[1m138/138\u001b[0m \u001b[32m━━━━━━━━━━━━━━━━━━━━\u001b[0m\u001b[37m\u001b[0m \u001b[1m12s\u001b[0m 89ms/step - accuracy: 0.7676 - loss: 0.5607 - val_accuracy: 0.7736 - val_loss: 0.5488\n",
      "Epoch 50/100\n",
      "\u001b[1m138/138\u001b[0m \u001b[32m━━━━━━━━━━━━━━━━━━━━\u001b[0m\u001b[37m\u001b[0m \u001b[1m12s\u001b[0m 89ms/step - accuracy: 0.7830 - loss: 0.5423 - val_accuracy: 0.7655 - val_loss: 0.5628\n",
      "Epoch 51/100\n",
      "\u001b[1m138/138\u001b[0m \u001b[32m━━━━━━━━━━━━━━━━━━━━\u001b[0m\u001b[37m\u001b[0m \u001b[1m12s\u001b[0m 89ms/step - accuracy: 0.7729 - loss: 0.5448 - val_accuracy: 0.7691 - val_loss: 0.5494\n",
      "Epoch 52/100\n",
      "\u001b[1m138/138\u001b[0m \u001b[32m━━━━━━━━━━━━━━━━━━━━\u001b[0m\u001b[37m\u001b[0m \u001b[1m21s\u001b[0m 91ms/step - accuracy: 0.7779 - loss: 0.5332 - val_accuracy: 0.7768 - val_loss: 0.5539\n",
      "Epoch 53/100\n",
      "\u001b[1m138/138\u001b[0m \u001b[32m━━━━━━━━━━━━━━━━━━━━\u001b[0m\u001b[37m\u001b[0m \u001b[1m13s\u001b[0m 97ms/step - accuracy: 0.7761 - loss: 0.5358 - val_accuracy: 0.7568 - val_loss: 0.5741\n",
      "Epoch 54/100\n",
      "\u001b[1m138/138\u001b[0m \u001b[32m━━━━━━━━━━━━━━━━━━━━\u001b[0m\u001b[37m\u001b[0m \u001b[1m13s\u001b[0m 96ms/step - accuracy: 0.7701 - loss: 0.5515 - val_accuracy: 0.7736 - val_loss: 0.5401\n",
      "Epoch 55/100\n",
      "\u001b[1m138/138\u001b[0m \u001b[32m━━━━━━━━━━━━━━━━━━━━\u001b[0m\u001b[37m\u001b[0m \u001b[1m13s\u001b[0m 96ms/step - accuracy: 0.7771 - loss: 0.5313 - val_accuracy: 0.7750 - val_loss: 0.5424\n",
      "Epoch 56/100\n",
      "\u001b[1m138/138\u001b[0m \u001b[32m━━━━━━━━━━━━━━━━━━━━\u001b[0m\u001b[37m\u001b[0m \u001b[1m14s\u001b[0m 100ms/step - accuracy: 0.7834 - loss: 0.5250 - val_accuracy: 0.7714 - val_loss: 0.5456\n",
      "Epoch 57/100\n",
      "\u001b[1m138/138\u001b[0m \u001b[32m━━━━━━━━━━━━━━━━━━━━\u001b[0m\u001b[37m\u001b[0m \u001b[1m13s\u001b[0m 91ms/step - accuracy: 0.7808 - loss: 0.5301 - val_accuracy: 0.7732 - val_loss: 0.5391\n",
      "Epoch 58/100\n",
      "\u001b[1m138/138\u001b[0m \u001b[32m━━━━━━━━━━━━━━━━━━━━\u001b[0m\u001b[37m\u001b[0m \u001b[1m12s\u001b[0m 88ms/step - accuracy: 0.7863 - loss: 0.5191 - val_accuracy: 0.7727 - val_loss: 0.5450\n",
      "Epoch 59/100\n",
      "\u001b[1m138/138\u001b[0m \u001b[32m━━━━━━━━━━━━━━━━━━━━\u001b[0m\u001b[37m\u001b[0m \u001b[1m12s\u001b[0m 90ms/step - accuracy: 0.7874 - loss: 0.5143 - val_accuracy: 0.7795 - val_loss: 0.5362\n",
      "Epoch 60/100\n",
      "\u001b[1m138/138\u001b[0m \u001b[32m━━━━━━━━━━━━━━━━━━━━\u001b[0m\u001b[37m\u001b[0m \u001b[1m13s\u001b[0m 92ms/step - accuracy: 0.7810 - loss: 0.5245 - val_accuracy: 0.7786 - val_loss: 0.5335\n",
      "Epoch 61/100\n",
      "\u001b[1m138/138\u001b[0m \u001b[32m━━━━━━━━━━━━━━━━━━━━\u001b[0m\u001b[37m\u001b[0m \u001b[1m21s\u001b[0m 95ms/step - accuracy: 0.7812 - loss: 0.5124 - val_accuracy: 0.7759 - val_loss: 0.5407\n",
      "Epoch 62/100\n",
      "\u001b[1m138/138\u001b[0m \u001b[32m━━━━━━━━━━━━━━━━━━━━\u001b[0m\u001b[37m\u001b[0m \u001b[1m13s\u001b[0m 95ms/step - accuracy: 0.7942 - loss: 0.5059 - val_accuracy: 0.7809 - val_loss: 0.5343\n",
      "Epoch 63/100\n",
      "\u001b[1m138/138\u001b[0m \u001b[32m━━━━━━━━━━━━━━━━━━━━\u001b[0m\u001b[37m\u001b[0m \u001b[1m13s\u001b[0m 92ms/step - accuracy: 0.7785 - loss: 0.5136 - val_accuracy: 0.7745 - val_loss: 0.5326\n",
      "Epoch 64/100\n",
      "\u001b[1m138/138\u001b[0m \u001b[32m━━━━━━━━━━━━━━━━━━━━\u001b[0m\u001b[37m\u001b[0m \u001b[1m15s\u001b[0m 108ms/step - accuracy: 0.7897 - loss: 0.4980 - val_accuracy: 0.7805 - val_loss: 0.5394\n",
      "Epoch 65/100\n",
      "\u001b[1m138/138\u001b[0m \u001b[32m━━━━━━━━━━━━━━━━━━━━\u001b[0m\u001b[37m\u001b[0m \u001b[1m16s\u001b[0m 116ms/step - accuracy: 0.7879 - loss: 0.4975 - val_accuracy: 0.7786 - val_loss: 0.5293\n",
      "Epoch 66/100\n",
      "\u001b[1m138/138\u001b[0m \u001b[32m━━━━━━━━━━━━━━━━━━━━\u001b[0m\u001b[37m\u001b[0m \u001b[1m20s\u001b[0m 114ms/step - accuracy: 0.7966 - loss: 0.4871 - val_accuracy: 0.7814 - val_loss: 0.5278\n",
      "Epoch 67/100\n",
      "\u001b[1m138/138\u001b[0m \u001b[32m━━━━━━━━━━━━━━━━━━━━\u001b[0m\u001b[37m\u001b[0m \u001b[1m20s\u001b[0m 109ms/step - accuracy: 0.7965 - loss: 0.4908 - val_accuracy: 0.7786 - val_loss: 0.5355\n",
      "Epoch 68/100\n",
      "\u001b[1m138/138\u001b[0m \u001b[32m━━━━━━━━━━━━━━━━━━━━\u001b[0m\u001b[37m\u001b[0m \u001b[1m13s\u001b[0m 95ms/step - accuracy: 0.7983 - loss: 0.4810 - val_accuracy: 0.7823 - val_loss: 0.5248\n",
      "Epoch 69/100\n",
      "\u001b[1m138/138\u001b[0m \u001b[32m━━━━━━━━━━━━━━━━━━━━\u001b[0m\u001b[37m\u001b[0m \u001b[1m13s\u001b[0m 96ms/step - accuracy: 0.7979 - loss: 0.4857 - val_accuracy: 0.7800 - val_loss: 0.5250\n",
      "Epoch 70/100\n",
      "\u001b[1m138/138\u001b[0m \u001b[32m━━━━━━━━━━━━━━━━━━━━\u001b[0m\u001b[37m\u001b[0m \u001b[1m21s\u001b[0m 94ms/step - accuracy: 0.7984 - loss: 0.4734 - val_accuracy: 0.7786 - val_loss: 0.5263\n",
      "Epoch 71/100\n",
      "\u001b[1m138/138\u001b[0m \u001b[32m━━━━━━━━━━━━━━━━━━━━\u001b[0m\u001b[37m\u001b[0m \u001b[1m21s\u001b[0m 95ms/step - accuracy: 0.7977 - loss: 0.4789 - val_accuracy: 0.7764 - val_loss: 0.5309\n",
      "Epoch 72/100\n",
      "\u001b[1m138/138\u001b[0m \u001b[32m━━━━━━━━━━━━━━━━━━━━\u001b[0m\u001b[37m\u001b[0m \u001b[1m13s\u001b[0m 97ms/step - accuracy: 0.7971 - loss: 0.4823 - val_accuracy: 0.7841 - val_loss: 0.5208\n",
      "Epoch 73/100\n",
      "\u001b[1m138/138\u001b[0m \u001b[32m━━━━━━━━━━━━━━━━━━━━\u001b[0m\u001b[37m\u001b[0m \u001b[1m20s\u001b[0m 94ms/step - accuracy: 0.8040 - loss: 0.4755 - val_accuracy: 0.7850 - val_loss: 0.5174\n",
      "Epoch 74/100\n",
      "\u001b[1m138/138\u001b[0m \u001b[32m━━━━━━━━━━━━━━━━━━━━\u001b[0m\u001b[37m\u001b[0m \u001b[1m13s\u001b[0m 94ms/step - accuracy: 0.7925 - loss: 0.4836 - val_accuracy: 0.7759 - val_loss: 0.5335\n",
      "Epoch 75/100\n",
      "\u001b[1m138/138\u001b[0m \u001b[32m━━━━━━━━━━━━━━━━━━━━\u001b[0m\u001b[37m\u001b[0m \u001b[1m21s\u001b[0m 94ms/step - accuracy: 0.7928 - loss: 0.4745 - val_accuracy: 0.7886 - val_loss: 0.5197\n",
      "Epoch 76/100\n",
      "\u001b[1m138/138\u001b[0m \u001b[32m━━━━━━━━━━━━━━━━━━━━\u001b[0m\u001b[37m\u001b[0m \u001b[1m20s\u001b[0m 89ms/step - accuracy: 0.8081 - loss: 0.4635 - val_accuracy: 0.7800 - val_loss: 0.5152\n",
      "Epoch 77/100\n",
      "\u001b[1m138/138\u001b[0m \u001b[32m━━━━━━━━━━━━━━━━━━━━\u001b[0m\u001b[37m\u001b[0m \u001b[1m12s\u001b[0m 87ms/step - accuracy: 0.8057 - loss: 0.4651 - val_accuracy: 0.7882 - val_loss: 0.5170\n",
      "Epoch 78/100\n",
      "\u001b[1m138/138\u001b[0m \u001b[32m━━━━━━━━━━━━━━━━━━━━\u001b[0m\u001b[37m\u001b[0m \u001b[1m13s\u001b[0m 88ms/step - accuracy: 0.8076 - loss: 0.4516 - val_accuracy: 0.7855 - val_loss: 0.5163\n",
      "Epoch 79/100\n",
      "\u001b[1m138/138\u001b[0m \u001b[32m━━━━━━━━━━━━━━━━━━━━\u001b[0m\u001b[37m\u001b[0m \u001b[1m12s\u001b[0m 88ms/step - accuracy: 0.8112 - loss: 0.4481 - val_accuracy: 0.7805 - val_loss: 0.5314\n",
      "Epoch 80/100\n",
      "\u001b[1m138/138\u001b[0m \u001b[32m━━━━━━━━━━━━━━━━━━━━\u001b[0m\u001b[37m\u001b[0m \u001b[1m22s\u001b[0m 98ms/step - accuracy: 0.8054 - loss: 0.4648 - val_accuracy: 0.7841 - val_loss: 0.5222\n",
      "Epoch 81/100\n",
      "\u001b[1m138/138\u001b[0m \u001b[32m━━━━━━━━━━━━━━━━━━━━\u001b[0m\u001b[37m\u001b[0m \u001b[1m23s\u001b[0m 114ms/step - accuracy: 0.8177 - loss: 0.4439 - val_accuracy: 0.7850 - val_loss: 0.5252\n",
      "Epoch 82/100\n",
      "\u001b[1m138/138\u001b[0m \u001b[32m━━━━━━━━━━━━━━━━━━━━\u001b[0m\u001b[37m\u001b[0m \u001b[1m21s\u001b[0m 115ms/step - accuracy: 0.8086 - loss: 0.4533 - val_accuracy: 0.7909 - val_loss: 0.5149\n",
      "Epoch 83/100\n",
      "\u001b[1m138/138\u001b[0m \u001b[32m━━━━━━━━━━━━━━━━━━━━\u001b[0m\u001b[37m\u001b[0m \u001b[1m15s\u001b[0m 110ms/step - accuracy: 0.8125 - loss: 0.4470 - val_accuracy: 0.7859 - val_loss: 0.5255\n",
      "Epoch 84/100\n",
      "\u001b[1m138/138\u001b[0m \u001b[32m━━━━━━━━━━━━━━━━━━━━\u001b[0m\u001b[37m\u001b[0m \u001b[1m20s\u001b[0m 104ms/step - accuracy: 0.8113 - loss: 0.4404 - val_accuracy: 0.7650 - val_loss: 0.5566\n",
      "Epoch 85/100\n",
      "\u001b[1m138/138\u001b[0m \u001b[32m━━━━━━━━━━━━━━━━━━━━\u001b[0m\u001b[37m\u001b[0m \u001b[1m13s\u001b[0m 93ms/step - accuracy: 0.8164 - loss: 0.4348 - val_accuracy: 0.7936 - val_loss: 0.5092\n",
      "Epoch 86/100\n",
      "\u001b[1m138/138\u001b[0m \u001b[32m━━━━━━━━━━━━━━━━━━━━\u001b[0m\u001b[37m\u001b[0m \u001b[1m20s\u001b[0m 89ms/step - accuracy: 0.8205 - loss: 0.4338 - val_accuracy: 0.7891 - val_loss: 0.5115\n",
      "Epoch 87/100\n",
      "\u001b[1m138/138\u001b[0m \u001b[32m━━━━━━━━━━━━━━━━━━━━\u001b[0m\u001b[37m\u001b[0m \u001b[1m13s\u001b[0m 91ms/step - accuracy: 0.8097 - loss: 0.4484 - val_accuracy: 0.7895 - val_loss: 0.5142\n",
      "Epoch 88/100\n",
      "\u001b[1m138/138\u001b[0m \u001b[32m━━━━━━━━━━━━━━━━━━━━\u001b[0m\u001b[37m\u001b[0m \u001b[1m13s\u001b[0m 93ms/step - accuracy: 0.8137 - loss: 0.4303 - val_accuracy: 0.7936 - val_loss: 0.5085\n",
      "Epoch 89/100\n",
      "\u001b[1m138/138\u001b[0m \u001b[32m━━━━━━━━━━━━━━━━━━━━\u001b[0m\u001b[37m\u001b[0m \u001b[1m20s\u001b[0m 92ms/step - accuracy: 0.8198 - loss: 0.4307 - val_accuracy: 0.7895 - val_loss: 0.5144\n",
      "Epoch 90/100\n",
      "\u001b[1m138/138\u001b[0m \u001b[32m━━━━━━━━━━━━━━━━━━━━\u001b[0m\u001b[37m\u001b[0m \u001b[1m21s\u001b[0m 92ms/step - accuracy: 0.8174 - loss: 0.4268 - val_accuracy: 0.7795 - val_loss: 0.5383\n",
      "Epoch 91/100\n",
      "\u001b[1m138/138\u001b[0m \u001b[32m━━━━━━━━━━━━━━━━━━━━\u001b[0m\u001b[37m\u001b[0m \u001b[1m21s\u001b[0m 95ms/step - accuracy: 0.8150 - loss: 0.4283 - val_accuracy: 0.7900 - val_loss: 0.5151\n",
      "Epoch 92/100\n",
      "\u001b[1m138/138\u001b[0m \u001b[32m━━━━━━━━━━━━━━━━━━━━\u001b[0m\u001b[37m\u001b[0m \u001b[1m21s\u001b[0m 93ms/step - accuracy: 0.8257 - loss: 0.4189 - val_accuracy: 0.7809 - val_loss: 0.5339\n",
      "Epoch 93/100\n",
      "\u001b[1m138/138\u001b[0m \u001b[32m━━━━━━━━━━━━━━━━━━━━\u001b[0m\u001b[37m\u001b[0m \u001b[1m12s\u001b[0m 86ms/step - accuracy: 0.8270 - loss: 0.4145 - val_accuracy: 0.7909 - val_loss: 0.5149\n",
      "Epoch 94/100\n",
      "\u001b[1m138/138\u001b[0m \u001b[32m━━━━━━━━━━━━━━━━━━━━\u001b[0m\u001b[37m\u001b[0m \u001b[1m20s\u001b[0m 84ms/step - accuracy: 0.8210 - loss: 0.4239 - val_accuracy: 0.7891 - val_loss: 0.5139\n",
      "Epoch 95/100\n",
      "\u001b[1m138/138\u001b[0m \u001b[32m━━━━━━━━━━━━━━━━━━━━\u001b[0m\u001b[37m\u001b[0m \u001b[1m12s\u001b[0m 86ms/step - accuracy: 0.8010 - loss: 0.4803 - val_accuracy: 0.7923 - val_loss: 0.5026\n",
      "Epoch 96/100\n",
      "\u001b[1m138/138\u001b[0m \u001b[32m━━━━━━━━━━━━━━━━━━━━\u001b[0m\u001b[37m\u001b[0m \u001b[1m12s\u001b[0m 84ms/step - accuracy: 0.8208 - loss: 0.4185 - val_accuracy: 0.7977 - val_loss: 0.5044\n",
      "Epoch 97/100\n",
      "\u001b[1m138/138\u001b[0m \u001b[32m━━━━━━━━━━━━━━━━━━━━\u001b[0m\u001b[37m\u001b[0m \u001b[1m13s\u001b[0m 93ms/step - accuracy: 0.8267 - loss: 0.4131 - val_accuracy: 0.7918 - val_loss: 0.5132\n",
      "Epoch 98/100\n",
      "\u001b[1m138/138\u001b[0m \u001b[32m━━━━━━━━━━━━━━━━━━━━\u001b[0m\u001b[37m\u001b[0m \u001b[1m22s\u001b[0m 103ms/step - accuracy: 0.8256 - loss: 0.4106 - val_accuracy: 0.7973 - val_loss: 0.5021\n",
      "Epoch 99/100\n",
      "\u001b[1m138/138\u001b[0m \u001b[32m━━━━━━━━━━━━━━━━━━━━\u001b[0m\u001b[37m\u001b[0m \u001b[1m23s\u001b[0m 117ms/step - accuracy: 0.8303 - loss: 0.4092 - val_accuracy: 0.7923 - val_loss: 0.5060\n",
      "Epoch 100/100\n",
      "\u001b[1m138/138\u001b[0m \u001b[32m━━━━━━━━━━━━━━━━━━━━\u001b[0m\u001b[37m\u001b[0m \u001b[1m20s\u001b[0m 113ms/step - accuracy: 0.8315 - loss: 0.4019 - val_accuracy: 0.7891 - val_loss: 0.5273\n",
      "Restoring model weights from the end of the best epoch: 98.\n"
     ]
    }
   ],
   "source": [
    "history = model_lstm.fit(\n",
    "    X_train,\n",
    "    y_train,\n",
    "    epochs = epoch,\n",
    "    validation_data = (X_val, y_val),\n",
    "    callbacks=[es],\n",
    "    batch_size=64,\n",
    "    verbose=1,\n",
    "    )"
   ]
  },
  {
   "cell_type": "code",
   "execution_count": 31,
   "metadata": {},
   "outputs": [],
   "source": [
    "result = history.history\n",
    "n_epochs = np.arange(0, len(result['accuracy']))\n"
   ]
  },
  {
   "cell_type": "markdown",
   "metadata": {},
   "source": [
    "c. Plot Accuracy Epoch (LSTM)"
   ]
  },
  {
   "cell_type": "code",
   "execution_count": 32,
   "metadata": {},
   "outputs": [
    {
     "data": {
      "image/png": "[encoded data removed]",
      "text/plain": [
       "<Figure size 1000x500 with 1 Axes>"
      ]
     },
     "metadata": {},
     "output_type": "display_data"
    }
   ],
   "source": [
    "plt.figure(figsize=(10,5))\n",
    "plt.title('Accuracy')\n",
    "plt.plot(n_epochs, result['accuracy'])\n",
    "plt.plot(n_epochs, result['val_accuracy'])\n",
    "plt.xlabel('Epoch')\n",
    "plt.ylabel('Loss')\n",
    "plt.legend(['Train', 'Val'])\n",
    "plt.grid()\n",
    "plt.show()"
   ]
  },
  {
   "cell_type": "markdown",
   "metadata": {},
   "source": [
    "d. Plot Loss Epoch (LSTM)"
   ]
  },
  {
   "cell_type": "code",
   "execution_count": 33,
   "metadata": {},
   "outputs": [
    {
     "data": {
      "image/png": "[encoded data removed]",
      "text/plain": [
       "<Figure size 1000x500 with 1 Axes>"
      ]
     },
     "metadata": {},
     "output_type": "display_data"
    }
   ],
   "source": [
    "plt.figure(figsize=(10,5))\n",
    "plt.title('Loss')\n",
    "plt.plot(n_epochs, result['loss'])\n",
    "plt.plot(n_epochs, result['val_loss'])\n",
    "plt.xlabel('Epoch')\n",
    "plt.ylabel('Loss')\n",
    "plt.legend(['Train', 'Val'])\n",
    "plt.grid()\n",
    "plt.show()"
   ]
  },
  {
   "cell_type": "markdown",
   "metadata": {},
   "source": [
    "e. Evaluasi (LSTM)"
   ]
  },
  {
   "cell_type": "code",
   "execution_count": 34,
   "metadata": {},
   "outputs": [
    {
     "name": "stdout",
     "output_type": "stream",
     "text": [
      "\u001b[1m69/69\u001b[0m \u001b[32m━━━━━━━━━━━━━━━━━━━━\u001b[0m\u001b[37m\u001b[0m \u001b[1m4s\u001b[0m 37ms/step\n",
      "Testing selesai\n",
      "              precision    recall  f1-score   support\n",
      "\n",
      "           0       0.64      0.82      0.72       672\n",
      "           1       0.83      0.15      0.25       239\n",
      "           2       0.90      0.91      0.90      1289\n",
      "\n",
      "    accuracy                           0.80      2200\n",
      "   macro avg       0.79      0.62      0.62      2200\n",
      "weighted avg       0.81      0.80      0.78      2200\n",
      "\n",
      "Accuracy Score SDG (0.00075) : 0.8\n"
     ]
    }
   ],
   "source": [
    "from sklearn.metrics import accuracy_score, classification_report\n",
    "import numpy as np\n",
    "\n",
    "y_pred = model_lstm.predict(X_val)\n",
    "\n",
    "y_pred_classes = y_pred.argmax(axis=1)\n",
    "y_val_classes = y_val.argmax(axis=1)\n",
    "print(\"Testing selesai\")\n",
    "print(classification_report(y_val_classes, y_pred_classes, zero_division=0.0))\n",
    "\n",
    "accuracy = accuracy_score(y_val_classes, y_pred_classes)\n",
    "print('Accuracy Score SDG (0.00075) :', round(accuracy, 2))\n"
   ]
  },
  {
   "cell_type": "markdown",
   "metadata": {},
   "source": [
    "f. Evaluasi (Cross-valid)"
   ]
  },
  {
   "cell_type": "code",
   "execution_count": 35,
   "metadata": {},
   "outputs": [
    {
     "name": "stdout",
     "output_type": "stream",
     "text": [
      "Epoch 1/100\n",
      "\u001b[1m138/138\u001b[0m \u001b[32m━━━━━━━━━━━━━━━━━━━━\u001b[0m\u001b[37m\u001b[0m \u001b[1m16s\u001b[0m 80ms/step - accuracy: 0.7254 - loss: 0.7133 - val_accuracy: 0.7855 - val_loss: 0.5100\n",
      "Epoch 2/100\n",
      "\u001b[1m138/138\u001b[0m \u001b[32m━━━━━━━━━━━━━━━━━━━━\u001b[0m\u001b[37m\u001b[0m \u001b[1m10s\u001b[0m 73ms/step - accuracy: 0.7722 - loss: 0.5460 - val_accuracy: 0.7705 - val_loss: 0.5834\n",
      "Epoch 3/100\n",
      "\u001b[1m138/138\u001b[0m \u001b[32m━━━━━━━━━━━━━━━━━━━━\u001b[0m\u001b[37m\u001b[0m \u001b[1m10s\u001b[0m 75ms/step - accuracy: 0.7982 - loss: 0.4589 - val_accuracy: 0.7591 - val_loss: 0.6026\n",
      "Epoch 4/100\n",
      "\u001b[1m138/138\u001b[0m \u001b[32m━━━━━━━━━━━━━━━━━━━━\u001b[0m\u001b[37m\u001b[0m \u001b[1m10s\u001b[0m 69ms/step - accuracy: 0.8110 - loss: 0.4382 - val_accuracy: 0.8018 - val_loss: 0.4967\n",
      "Epoch 5/100\n",
      "\u001b[1m138/138\u001b[0m \u001b[32m━━━━━━━━━━━━━━━━━━━━\u001b[0m\u001b[37m\u001b[0m \u001b[1m10s\u001b[0m 69ms/step - accuracy: 0.8256 - loss: 0.4207 - val_accuracy: 0.7982 - val_loss: 0.5095\n",
      "Epoch 6/100\n",
      "\u001b[1m138/138\u001b[0m \u001b[32m━━━━━━━━━━━━━━━━━━━━\u001b[0m\u001b[37m\u001b[0m \u001b[1m10s\u001b[0m 72ms/step - accuracy: 0.8413 - loss: 0.3898 - val_accuracy: 0.7509 - val_loss: 0.6134\n",
      "Epoch 7/100\n",
      "\u001b[1m138/138\u001b[0m \u001b[32m━━━━━━━━━━━━━━━━━━━━\u001b[0m\u001b[37m\u001b[0m \u001b[1m10s\u001b[0m 70ms/step - accuracy: 0.8291 - loss: 0.4089 - val_accuracy: 0.8109 - val_loss: 0.4762\n",
      "Epoch 8/100\n",
      "\u001b[1m138/138\u001b[0m \u001b[32m━━━━━━━━━━━━━━━━━━━━\u001b[0m\u001b[37m\u001b[0m \u001b[1m10s\u001b[0m 68ms/step - accuracy: 0.8394 - loss: 0.3840 - val_accuracy: 0.8109 - val_loss: 0.4769\n",
      "Epoch 9/100\n",
      "\u001b[1m138/138\u001b[0m \u001b[32m━━━━━━━━━━━━━━━━━━━━\u001b[0m\u001b[37m\u001b[0m \u001b[1m10s\u001b[0m 69ms/step - accuracy: 0.8415 - loss: 0.3775 - val_accuracy: 0.7936 - val_loss: 0.5000\n",
      "Epoch 10/100\n",
      "\u001b[1m138/138\u001b[0m \u001b[32m━━━━━━━━━━━━━━━━━━━━\u001b[0m\u001b[37m\u001b[0m \u001b[1m13s\u001b[0m 89ms/step - accuracy: 0.8545 - loss: 0.3510 - val_accuracy: 0.8027 - val_loss: 0.5282\n",
      "Epoch 11/100\n",
      "\u001b[1m138/138\u001b[0m \u001b[32m━━━━━━━━━━━━━━━━━━━━\u001b[0m\u001b[37m\u001b[0m \u001b[1m21s\u001b[0m 89ms/step - accuracy: 0.8473 - loss: 0.3717 - val_accuracy: 0.8032 - val_loss: 0.5021\n",
      "Epoch 12/100\n",
      "\u001b[1m138/138\u001b[0m \u001b[32m━━━━━━━━━━━━━━━━━━━━\u001b[0m\u001b[37m\u001b[0m \u001b[1m20s\u001b[0m 85ms/step - accuracy: 0.8770 - loss: 0.3213 - val_accuracy: 0.7741 - val_loss: 0.6138\n",
      "Epoch 13/100\n",
      "\u001b[1m138/138\u001b[0m \u001b[32m━━━━━━━━━━━━━━━━━━━━\u001b[0m\u001b[37m\u001b[0m \u001b[1m20s\u001b[0m 82ms/step - accuracy: 0.8747 - loss: 0.3137 - val_accuracy: 0.8250 - val_loss: 0.4682\n",
      "Epoch 14/100\n",
      "\u001b[1m138/138\u001b[0m \u001b[32m━━━━━━━━━━━━━━━━━━━━\u001b[0m\u001b[37m\u001b[0m \u001b[1m11s\u001b[0m 81ms/step - accuracy: 0.8892 - loss: 0.2914 - val_accuracy: 0.8009 - val_loss: 0.5347\n",
      "Epoch 15/100\n",
      "\u001b[1m138/138\u001b[0m \u001b[32m━━━━━━━━━━━━━━━━━━━━\u001b[0m\u001b[37m\u001b[0m \u001b[1m12s\u001b[0m 83ms/step - accuracy: 0.8807 - loss: 0.3105 - val_accuracy: 0.8114 - val_loss: 0.5021\n",
      "Epoch 16/100\n",
      "\u001b[1m138/138\u001b[0m \u001b[32m━━━━━━━━━━━━━━━━━━━━\u001b[0m\u001b[37m\u001b[0m \u001b[1m21s\u001b[0m 87ms/step - accuracy: 0.9014 - loss: 0.2666 - val_accuracy: 0.8200 - val_loss: 0.4686\n",
      "Epoch 17/100\n",
      "\u001b[1m138/138\u001b[0m \u001b[32m━━━━━━━━━━━━━━━━━━━━\u001b[0m\u001b[37m\u001b[0m \u001b[1m21s\u001b[0m 90ms/step - accuracy: 0.8983 - loss: 0.2619 - val_accuracy: 0.8341 - val_loss: 0.4575\n",
      "Epoch 18/100\n",
      "\u001b[1m138/138\u001b[0m \u001b[32m━━━━━━━━━━━━━━━━━━━━\u001b[0m\u001b[37m\u001b[0m \u001b[1m15s\u001b[0m 110ms/step - accuracy: 0.9139 - loss: 0.2293 - val_accuracy: 0.7905 - val_loss: 0.6290\n",
      "Epoch 19/100\n",
      "\u001b[1m138/138\u001b[0m \u001b[32m━━━━━━━━━━━━━━━━━━━━\u001b[0m\u001b[37m\u001b[0m \u001b[1m22s\u001b[0m 116ms/step - accuracy: 0.9049 - loss: 0.2456 - val_accuracy: 0.7800 - val_loss: 0.6901\n",
      "Epoch 20/100\n",
      "\u001b[1m138/138\u001b[0m \u001b[32m━━━━━━━━━━━━━━━━━━━━\u001b[0m\u001b[37m\u001b[0m \u001b[1m16s\u001b[0m 117ms/step - accuracy: 0.9070 - loss: 0.2440 - val_accuracy: 0.8391 - val_loss: 0.4708\n",
      "Epoch 21/100\n",
      "\u001b[1m138/138\u001b[0m \u001b[32m━━━━━━━━━━━━━━━━━━━━\u001b[0m\u001b[37m\u001b[0m \u001b[1m15s\u001b[0m 111ms/step - accuracy: 0.9233 - loss: 0.2130 - val_accuracy: 0.8032 - val_loss: 0.5541\n",
      "Epoch 22/100\n",
      "\u001b[1m138/138\u001b[0m \u001b[32m━━━━━━━━━━━━━━━━━━━━\u001b[0m\u001b[37m\u001b[0m \u001b[1m15s\u001b[0m 107ms/step - accuracy: 0.9331 - loss: 0.1918 - val_accuracy: 0.8205 - val_loss: 0.5395\n",
      "Epoch 23/100\n",
      "\u001b[1m138/138\u001b[0m \u001b[32m━━━━━━━━━━━━━━━━━━━━\u001b[0m\u001b[37m\u001b[0m \u001b[1m13s\u001b[0m 90ms/step - accuracy: 0.9233 - loss: 0.1947 - val_accuracy: 0.8282 - val_loss: 0.5262\n",
      "Epoch 24/100\n",
      "\u001b[1m138/138\u001b[0m \u001b[32m━━━━━━━━━━━━━━━━━━━━\u001b[0m\u001b[37m\u001b[0m \u001b[1m14s\u001b[0m 97ms/step - accuracy: 0.9337 - loss: 0.1922 - val_accuracy: 0.8327 - val_loss: 0.4762\n",
      "Epoch 25/100\n",
      "\u001b[1m138/138\u001b[0m \u001b[32m━━━━━━━━━━━━━━━━━━━━\u001b[0m\u001b[37m\u001b[0m \u001b[1m13s\u001b[0m 94ms/step - accuracy: 0.9341 - loss: 0.1817 - val_accuracy: 0.8359 - val_loss: 0.5028\n",
      "Epoch 26/100\n",
      "\u001b[1m138/138\u001b[0m \u001b[32m━━━━━━━━━━━━━━━━━━━━\u001b[0m\u001b[37m\u001b[0m \u001b[1m13s\u001b[0m 94ms/step - accuracy: 0.9343 - loss: 0.1754 - val_accuracy: 0.8414 - val_loss: 0.4792\n",
      "Epoch 27/100\n",
      "\u001b[1m138/138\u001b[0m \u001b[32m━━━━━━━━━━━━━━━━━━━━\u001b[0m\u001b[37m\u001b[0m \u001b[1m13s\u001b[0m 94ms/step - accuracy: 0.9352 - loss: 0.1767 - val_accuracy: 0.8373 - val_loss: 0.5059\n",
      "Epoch 28/100\n",
      "\u001b[1m138/138\u001b[0m \u001b[32m━━━━━━━━━━━━━━━━━━━━\u001b[0m\u001b[37m\u001b[0m \u001b[1m13s\u001b[0m 92ms/step - accuracy: 0.9499 - loss: 0.1450 - val_accuracy: 0.8427 - val_loss: 0.5037\n",
      "Epoch 29/100\n",
      "\u001b[1m138/138\u001b[0m \u001b[32m━━━━━━━━━━━━━━━━━━━━\u001b[0m\u001b[37m\u001b[0m \u001b[1m22s\u001b[0m 100ms/step - accuracy: 0.9414 - loss: 0.1624 - val_accuracy: 0.8168 - val_loss: 0.6111\n",
      "Epoch 30/100\n",
      "\u001b[1m138/138\u001b[0m \u001b[32m━━━━━━━━━━━━━━━━━━━━\u001b[0m\u001b[37m\u001b[0m \u001b[1m20s\u001b[0m 97ms/step - accuracy: 0.9386 - loss: 0.1795 - val_accuracy: 0.8250 - val_loss: 0.5450\n",
      "Epoch 31/100\n",
      "\u001b[1m138/138\u001b[0m \u001b[32m━━━━━━━━━━━━━━━━━━━━\u001b[0m\u001b[37m\u001b[0m \u001b[1m20s\u001b[0m 91ms/step - accuracy: 0.9494 - loss: 0.1379 - val_accuracy: 0.8414 - val_loss: 0.5266\n",
      "Epoch 32/100\n",
      "\u001b[1m138/138\u001b[0m \u001b[32m━━━━━━━━━━━━━━━━━━━━\u001b[0m\u001b[37m\u001b[0m \u001b[1m13s\u001b[0m 91ms/step - accuracy: 0.9479 - loss: 0.1452 - val_accuracy: 0.8245 - val_loss: 0.5951\n",
      "Epoch 32: early stopping\n",
      "Restoring model weights from the end of the best epoch: 17.\n",
      "\u001b[1m69/69\u001b[0m \u001b[32m━━━━━━━━━━━━━━━━━━━━\u001b[0m\u001b[37m\u001b[0m \u001b[1m3s\u001b[0m 40ms/step\n",
      "Training ke- 1\n",
      "              precision    recall  f1-score   support\n",
      "\n",
      "           0       0.78      0.73      0.75       672\n",
      "           1       0.70      0.63      0.66       239\n",
      "           2       0.88      0.93      0.90      1289\n",
      "\n",
      "    accuracy                           0.83      2200\n",
      "   macro avg       0.79      0.76      0.77      2200\n",
      "weighted avg       0.83      0.83      0.83      2200\n",
      "\n",
      "======================================================\n",
      "Epoch 1/100\n",
      "\u001b[1m138/138\u001b[0m \u001b[32m━━━━━━━━━━━━━━━━━━━━\u001b[0m\u001b[37m\u001b[0m \u001b[1m20s\u001b[0m 109ms/step - accuracy: 0.8871 - loss: 0.3077 - val_accuracy: 0.9036 - val_loss: 0.2360\n",
      "Epoch 2/100\n",
      "\u001b[1m138/138\u001b[0m \u001b[32m━━━━━━━━━━━━━━━━━━━━\u001b[0m\u001b[37m\u001b[0m \u001b[1m17s\u001b[0m 83ms/step - accuracy: 0.8997 - loss: 0.2756 - val_accuracy: 0.9164 - val_loss: 0.2304\n",
      "Epoch 3/100\n",
      "\u001b[1m138/138\u001b[0m \u001b[32m━━━━━━━━━━━━━━━━━━━━\u001b[0m\u001b[37m\u001b[0m \u001b[1m12s\u001b[0m 87ms/step - accuracy: 0.9003 - loss: 0.2616 - val_accuracy: 0.9068 - val_loss: 0.2290\n",
      "Epoch 4/100\n",
      "\u001b[1m138/138\u001b[0m \u001b[32m━━━━━━━━━━━━━━━━━━━━\u001b[0m\u001b[37m\u001b[0m \u001b[1m25s\u001b[0m 117ms/step - accuracy: 0.9110 - loss: 0.2476 - val_accuracy: 0.9023 - val_loss: 0.2504\n",
      "Epoch 5/100\n",
      "\u001b[1m138/138\u001b[0m \u001b[32m━━━━━━━━━━━━━━━━━━━━\u001b[0m\u001b[37m\u001b[0m \u001b[1m21s\u001b[0m 121ms/step - accuracy: 0.9103 - loss: 0.2403 - val_accuracy: 0.8873 - val_loss: 0.2635\n",
      "Epoch 6/100\n",
      "\u001b[1m138/138\u001b[0m \u001b[32m━━━━━━━━━━━━━━━━━━━━\u001b[0m\u001b[37m\u001b[0m \u001b[1m15s\u001b[0m 111ms/step - accuracy: 0.9184 - loss: 0.2245 - val_accuracy: 0.9009 - val_loss: 0.2567\n",
      "Epoch 7/100\n",
      "\u001b[1m138/138\u001b[0m \u001b[32m━━━━━━━━━━━━━━━━━━━━\u001b[0m\u001b[37m\u001b[0m \u001b[1m20s\u001b[0m 109ms/step - accuracy: 0.9214 - loss: 0.2112 - val_accuracy: 0.8932 - val_loss: 0.2667\n",
      "Epoch 8/100\n",
      "\u001b[1m138/138\u001b[0m \u001b[32m━━━━━━━━━━━━━━━━━━━━\u001b[0m\u001b[37m\u001b[0m \u001b[1m15s\u001b[0m 107ms/step - accuracy: 0.9262 - loss: 0.2053 - val_accuracy: 0.8923 - val_loss: 0.2770\n",
      "Epoch 9/100\n",
      "\u001b[1m138/138\u001b[0m \u001b[32m━━━━━━━━━━━━━━━━━━━━\u001b[0m\u001b[37m\u001b[0m \u001b[1m13s\u001b[0m 91ms/step - accuracy: 0.9294 - loss: 0.1955 - val_accuracy: 0.8514 - val_loss: 0.3475\n",
      "Epoch 10/100\n",
      "\u001b[1m138/138\u001b[0m \u001b[32m━━━━━━━━━━━━━━━━━━━━\u001b[0m\u001b[37m\u001b[0m \u001b[1m13s\u001b[0m 93ms/step - accuracy: 0.9315 - loss: 0.1871 - val_accuracy: 0.8705 - val_loss: 0.3319\n",
      "Epoch 11/100\n",
      "\u001b[1m138/138\u001b[0m \u001b[32m━━━━━━━━━━━━━━━━━━━━\u001b[0m\u001b[37m\u001b[0m \u001b[1m13s\u001b[0m 92ms/step - accuracy: 0.9403 - loss: 0.1704 - val_accuracy: 0.8959 - val_loss: 0.2730\n",
      "Epoch 12/100\n",
      "\u001b[1m138/138\u001b[0m \u001b[32m━━━━━━━━━━━━━━━━━━━━\u001b[0m\u001b[37m\u001b[0m \u001b[1m22s\u001b[0m 99ms/step - accuracy: 0.9454 - loss: 0.1606 - val_accuracy: 0.8936 - val_loss: 0.2931\n",
      "Epoch 13/100\n",
      "\u001b[1m138/138\u001b[0m \u001b[32m━━━━━━━━━━━━━━━━━━━━\u001b[0m\u001b[37m\u001b[0m \u001b[1m20s\u001b[0m 95ms/step - accuracy: 0.9414 - loss: 0.1732 - val_accuracy: 0.8923 - val_loss: 0.2987\n",
      "Epoch 14/100\n",
      "\u001b[1m138/138\u001b[0m \u001b[32m━━━━━━━━━━━━━━━━━━━━\u001b[0m\u001b[37m\u001b[0m \u001b[1m21s\u001b[0m 98ms/step - accuracy: 0.9434 - loss: 0.1635 - val_accuracy: 0.8823 - val_loss: 0.3020\n",
      "Epoch 15/100\n",
      "\u001b[1m138/138\u001b[0m \u001b[32m━━━━━━━━━━━━━━━━━━━━\u001b[0m\u001b[37m\u001b[0m \u001b[1m14s\u001b[0m 102ms/step - accuracy: 0.9425 - loss: 0.1568 - val_accuracy: 0.8773 - val_loss: 0.3425\n",
      "Epoch 16/100\n",
      "\u001b[1m138/138\u001b[0m \u001b[32m━━━━━━━━━━━━━━━━━━━━\u001b[0m\u001b[37m\u001b[0m \u001b[1m14s\u001b[0m 99ms/step - accuracy: 0.9514 - loss: 0.1368 - val_accuracy: 0.8855 - val_loss: 0.3113\n",
      "Epoch 17/100\n",
      "\u001b[1m138/138\u001b[0m \u001b[32m━━━━━━━━━━━━━━━━━━━━\u001b[0m\u001b[37m\u001b[0m \u001b[1m21s\u001b[0m 99ms/step - accuracy: 0.9561 - loss: 0.1330 - val_accuracy: 0.8664 - val_loss: 0.4013\n",
      "Epoch 18/100\n",
      "\u001b[1m138/138\u001b[0m \u001b[32m━━━━━━━━━━━━━━━━━━━━\u001b[0m\u001b[37m\u001b[0m \u001b[1m14s\u001b[0m 100ms/step - accuracy: 0.9487 - loss: 0.1449 - val_accuracy: 0.7591 - val_loss: 0.8182\n",
      "Epoch 18: early stopping\n",
      "Restoring model weights from the end of the best epoch: 3.\n",
      "\u001b[1m69/69\u001b[0m \u001b[32m━━━━━━━━━━━━━━━━━━━━\u001b[0m\u001b[37m\u001b[0m \u001b[1m3s\u001b[0m 36ms/step\n",
      "Training ke- 2\n",
      "              precision    recall  f1-score   support\n",
      "\n",
      "           0       0.83      0.84      0.83       672\n",
      "           1       0.83      0.77      0.80       239\n",
      "           2       0.93      0.93      0.93      1289\n",
      "\n",
      "    accuracy                           0.89      2200\n",
      "   macro avg       0.86      0.85      0.86      2200\n",
      "weighted avg       0.89      0.89      0.89      2200\n",
      "\n",
      "======================================================\n",
      "Epoch 1/100\n",
      "\u001b[1m138/138\u001b[0m \u001b[32m━━━━━━━━━━━━━━━━━━━━\u001b[0m\u001b[37m\u001b[0m \u001b[1m18s\u001b[0m 100ms/step - accuracy: 0.8989 - loss: 0.2582 - val_accuracy: 0.9341 - val_loss: 0.1968\n",
      "Epoch 2/100\n",
      "\u001b[1m138/138\u001b[0m \u001b[32m━━━━━━━━━━━━━━━━━━━━\u001b[0m\u001b[37m\u001b[0m \u001b[1m14s\u001b[0m 104ms/step - accuracy: 0.9204 - loss: 0.2314 - val_accuracy: 0.9259 - val_loss: 0.2040\n",
      "Epoch 3/100\n",
      "\u001b[1m138/138\u001b[0m \u001b[32m━━━━━━━━━━━━━━━━━━━━\u001b[0m\u001b[37m\u001b[0m \u001b[1m22s\u001b[0m 112ms/step - accuracy: 0.9212 - loss: 0.2158 - val_accuracy: 0.9241 - val_loss: 0.2069\n",
      "Epoch 4/100\n",
      "\u001b[1m138/138\u001b[0m \u001b[32m━━━━━━━━━━━━━━━━━━━━\u001b[0m\u001b[37m\u001b[0m \u001b[1m22s\u001b[0m 121ms/step - accuracy: 0.9189 - loss: 0.2160 - val_accuracy: 0.8359 - val_loss: 0.4231\n",
      "Epoch 5/100\n",
      "\u001b[1m138/138\u001b[0m \u001b[32m━━━━━━━━━━━━━━━━━━━━\u001b[0m\u001b[37m\u001b[0m \u001b[1m20s\u001b[0m 114ms/step - accuracy: 0.9201 - loss: 0.2113 - val_accuracy: 0.8845 - val_loss: 0.3055\n",
      "Epoch 6/100\n",
      "\u001b[1m138/138\u001b[0m \u001b[32m━━━━━━━━━━━━━━━━━━━━\u001b[0m\u001b[37m\u001b[0m \u001b[1m20s\u001b[0m 105ms/step - accuracy: 0.9236 - loss: 0.2085 - val_accuracy: 0.8918 - val_loss: 0.2622\n",
      "Epoch 7/100\n",
      "\u001b[1m138/138\u001b[0m \u001b[32m━━━━━━━━━━━━━━━━━━━━\u001b[0m\u001b[37m\u001b[0m \u001b[1m13s\u001b[0m 94ms/step - accuracy: 0.9314 - loss: 0.1886 - val_accuracy: 0.7782 - val_loss: 0.6117\n",
      "Epoch 8/100\n",
      "\u001b[1m138/138\u001b[0m \u001b[32m━━━━━━━━━━━━━━━━━━━━\u001b[0m\u001b[37m\u001b[0m \u001b[1m21s\u001b[0m 96ms/step - accuracy: 0.9269 - loss: 0.1957 - val_accuracy: 0.8482 - val_loss: 0.3827\n",
      "Epoch 9/100\n",
      "\u001b[1m138/138\u001b[0m \u001b[32m━━━━━━━━━━━━━━━━━━━━\u001b[0m\u001b[37m\u001b[0m \u001b[1m21s\u001b[0m 96ms/step - accuracy: 0.9421 - loss: 0.1716 - val_accuracy: 0.8964 - val_loss: 0.2605\n",
      "Epoch 10/100\n",
      "\u001b[1m138/138\u001b[0m \u001b[32m━━━━━━━━━━━━━━━━━━━━\u001b[0m\u001b[37m\u001b[0m \u001b[1m21s\u001b[0m 95ms/step - accuracy: 0.9423 - loss: 0.1690 - val_accuracy: 0.9032 - val_loss: 0.2681\n",
      "Epoch 11/100\n",
      "\u001b[1m138/138\u001b[0m \u001b[32m━━━━━━━━━━━━━━━━━━━━\u001b[0m\u001b[37m\u001b[0m \u001b[1m21s\u001b[0m 96ms/step - accuracy: 0.9356 - loss: 0.1892 - val_accuracy: 0.8886 - val_loss: 0.2886\n",
      "Epoch 12/100\n",
      "\u001b[1m138/138\u001b[0m \u001b[32m━━━━━━━━━━━━━━━━━━━━\u001b[0m\u001b[37m\u001b[0m \u001b[1m14s\u001b[0m 98ms/step - accuracy: 0.9456 - loss: 0.1661 - val_accuracy: 0.9014 - val_loss: 0.2575\n",
      "Epoch 13/100\n",
      "\u001b[1m138/138\u001b[0m \u001b[32m━━━━━━━━━━━━━━━━━━━━\u001b[0m\u001b[37m\u001b[0m \u001b[1m21s\u001b[0m 102ms/step - accuracy: 0.9444 - loss: 0.1546 - val_accuracy: 0.8727 - val_loss: 0.3053\n",
      "Epoch 14/100\n",
      "\u001b[1m138/138\u001b[0m \u001b[32m━━━━━━━━━━━━━━━━━━━━\u001b[0m\u001b[37m\u001b[0m \u001b[1m14s\u001b[0m 97ms/step - accuracy: 0.9486 - loss: 0.1430 - val_accuracy: 0.8909 - val_loss: 0.2945\n",
      "Epoch 15/100\n",
      "\u001b[1m138/138\u001b[0m \u001b[32m━━━━━━━━━━━━━━━━━━━━\u001b[0m\u001b[37m\u001b[0m \u001b[1m12s\u001b[0m 89ms/step - accuracy: 0.9547 - loss: 0.1321 - val_accuracy: 0.8918 - val_loss: 0.2790\n",
      "Epoch 16/100\n",
      "\u001b[1m138/138\u001b[0m \u001b[32m━━━━━━━━━━━━━━━━━━━━\u001b[0m\u001b[37m\u001b[0m \u001b[1m21s\u001b[0m 89ms/step - accuracy: 0.9501 - loss: 0.1394 - val_accuracy: 0.8691 - val_loss: 0.4096\n",
      "Epoch 16: early stopping\n",
      "Restoring model weights from the end of the best epoch: 1.\n",
      "\u001b[1m69/69\u001b[0m \u001b[32m━━━━━━━━━━━━━━━━━━━━\u001b[0m\u001b[37m\u001b[0m \u001b[1m3s\u001b[0m 39ms/step\n",
      "Training ke- 3\n",
      "              precision    recall  f1-score   support\n",
      "\n",
      "           0       0.85      0.84      0.85       672\n",
      "           1       0.88      0.82      0.85       239\n",
      "           2       0.93      0.95      0.94      1289\n",
      "\n",
      "    accuracy                           0.90      2200\n",
      "   macro avg       0.89      0.87      0.88      2200\n",
      "weighted avg       0.90      0.90      0.90      2200\n",
      "\n",
      "======================================================\n",
      "Epoch 1/100\n",
      "\u001b[1m138/138\u001b[0m \u001b[32m━━━━━━━━━━━━━━━━━━━━\u001b[0m\u001b[37m\u001b[0m \u001b[1m18s\u001b[0m 100ms/step - accuracy: 0.9060 - loss: 0.2452 - val_accuracy: 0.8214 - val_loss: 0.4373\n",
      "Epoch 2/100\n",
      "\u001b[1m138/138\u001b[0m \u001b[32m━━━━━━━━━━━━━━━━━━━━\u001b[0m\u001b[37m\u001b[0m \u001b[1m19s\u001b[0m 90ms/step - accuracy: 0.9084 - loss: 0.2464 - val_accuracy: 0.9195 - val_loss: 0.2163\n",
      "Epoch 3/100\n",
      "\u001b[1m138/138\u001b[0m \u001b[32m━━━━━━━━━━━━━━━━━━━━\u001b[0m\u001b[37m\u001b[0m \u001b[1m28s\u001b[0m 140ms/step - accuracy: 0.9219 - loss: 0.2119 - val_accuracy: 0.8759 - val_loss: 0.3412\n",
      "Epoch 4/100\n",
      "\u001b[1m138/138\u001b[0m \u001b[32m━━━━━━━━━━━━━━━━━━━━\u001b[0m\u001b[37m\u001b[0m \u001b[1m20s\u001b[0m 135ms/step - accuracy: 0.9107 - loss: 0.2428 - val_accuracy: 0.9136 - val_loss: 0.2268\n",
      "Epoch 5/100\n",
      "\u001b[1m138/138\u001b[0m \u001b[32m━━━━━━━━━━━━━━━━━━━━\u001b[0m\u001b[37m\u001b[0m \u001b[1m16s\u001b[0m 118ms/step - accuracy: 0.9294 - loss: 0.1973 - val_accuracy: 0.9041 - val_loss: 0.2450\n",
      "Epoch 6/100\n",
      "\u001b[1m138/138\u001b[0m \u001b[32m━━━━━━━━━━━━━━━━━━━━\u001b[0m\u001b[37m\u001b[0m \u001b[1m20s\u001b[0m 114ms/step - accuracy: 0.9289 - loss: 0.1975 - val_accuracy: 0.9109 - val_loss: 0.2282\n",
      "Epoch 7/100\n",
      "\u001b[1m138/138\u001b[0m \u001b[32m━━━━━━━━━━━━━━━━━━━━\u001b[0m\u001b[37m\u001b[0m \u001b[1m13s\u001b[0m 96ms/step - accuracy: 0.9347 - loss: 0.1800 - val_accuracy: 0.9018 - val_loss: 0.2694\n",
      "Epoch 8/100\n",
      "\u001b[1m138/138\u001b[0m \u001b[32m━━━━━━━━━━━━━━━━━━━━\u001b[0m\u001b[37m\u001b[0m \u001b[1m13s\u001b[0m 92ms/step - accuracy: 0.9329 - loss: 0.1865 - val_accuracy: 0.9095 - val_loss: 0.2366\n",
      "Epoch 9/100\n",
      "\u001b[1m138/138\u001b[0m \u001b[32m━━━━━━━━━━━━━━━━━━━━\u001b[0m\u001b[37m\u001b[0m \u001b[1m13s\u001b[0m 93ms/step - accuracy: 0.9404 - loss: 0.1746 - val_accuracy: 0.9109 - val_loss: 0.2325\n",
      "Epoch 10/100\n",
      "\u001b[1m138/138\u001b[0m \u001b[32m━━━━━━━━━━━━━━━━━━━━\u001b[0m\u001b[37m\u001b[0m \u001b[1m14s\u001b[0m 100ms/step - accuracy: 0.9371 - loss: 0.1698 - val_accuracy: 0.9082 - val_loss: 0.2514\n",
      "Epoch 11/100\n",
      "\u001b[1m138/138\u001b[0m \u001b[32m━━━━━━━━━━━━━━━━━━━━\u001b[0m\u001b[37m\u001b[0m \u001b[1m14s\u001b[0m 103ms/step - accuracy: 0.9486 - loss: 0.1504 - val_accuracy: 0.9050 - val_loss: 0.2570\n",
      "Epoch 12/100\n",
      "\u001b[1m138/138\u001b[0m \u001b[32m━━━━━━━━━━━━━━━━━━━━\u001b[0m\u001b[37m\u001b[0m \u001b[1m14s\u001b[0m 101ms/step - accuracy: 0.9509 - loss: 0.1419 - val_accuracy: 0.9073 - val_loss: 0.2483\n",
      "Epoch 13/100\n",
      "\u001b[1m138/138\u001b[0m \u001b[32m━━━━━━━━━━━━━━━━━━━━\u001b[0m\u001b[37m\u001b[0m \u001b[1m14s\u001b[0m 100ms/step - accuracy: 0.9449 - loss: 0.1595 - val_accuracy: 0.9068 - val_loss: 0.2531\n",
      "Epoch 14/100\n",
      "\u001b[1m138/138\u001b[0m \u001b[32m━━━━━━━━━━━━━━━━━━━━\u001b[0m\u001b[37m\u001b[0m \u001b[1m14s\u001b[0m 99ms/step - accuracy: 0.9550 - loss: 0.1318 - val_accuracy: 0.8945 - val_loss: 0.2871\n",
      "Epoch 15/100\n",
      "\u001b[1m138/138\u001b[0m \u001b[32m━━━━━━━━━━━━━━━━━━━━\u001b[0m\u001b[37m\u001b[0m \u001b[1m21s\u001b[0m 102ms/step - accuracy: 0.9502 - loss: 0.1430 - val_accuracy: 0.8982 - val_loss: 0.2779\n",
      "Epoch 15: early stopping\n",
      "Restoring model weights from the end of the best epoch: 1.\n",
      "\u001b[1m69/69\u001b[0m \u001b[32m━━━━━━━━━━━━━━━━━━━━\u001b[0m\u001b[37m\u001b[0m \u001b[1m8s\u001b[0m 111ms/step\n",
      "Training ke- 4\n",
      "              precision    recall  f1-score   support\n",
      "\n",
      "           0       0.65      0.88      0.75       672\n",
      "           1       0.73      0.92      0.81       239\n",
      "           2       0.97      0.74      0.84      1289\n",
      "\n",
      "    accuracy                           0.81      2200\n",
      "   macro avg       0.78      0.85      0.80      2200\n",
      "weighted avg       0.85      0.81      0.81      2200\n",
      "\n",
      "======================================================\n",
      "Epoch 1/100\n",
      "\u001b[1m138/138\u001b[0m \u001b[32m━━━━━━━━━━━━━━━━━━━━\u001b[0m\u001b[37m\u001b[0m \u001b[1m22s\u001b[0m 115ms/step - accuracy: 0.9082 - loss: 0.2566 - val_accuracy: 0.9214 - val_loss: 0.2033\n",
      "Epoch 2/100\n",
      "\u001b[1m138/138\u001b[0m \u001b[32m━━━━━━━━━━━━━━━━━━━━\u001b[0m\u001b[37m\u001b[0m \u001b[1m20s\u001b[0m 112ms/step - accuracy: 0.9195 - loss: 0.2225 - val_accuracy: 0.9250 - val_loss: 0.1888\n",
      "Epoch 3/100\n",
      "\u001b[1m138/138\u001b[0m \u001b[32m━━━━━━━━━━━━━━━━━━━━\u001b[0m\u001b[37m\u001b[0m \u001b[1m15s\u001b[0m 109ms/step - accuracy: 0.9217 - loss: 0.2090 - val_accuracy: 0.9227 - val_loss: 0.1916\n",
      "Epoch 4/100\n",
      "\u001b[1m138/138\u001b[0m \u001b[32m━━━━━━━━━━━━━━━━━━━━\u001b[0m\u001b[37m\u001b[0m \u001b[1m16s\u001b[0m 119ms/step - accuracy: 0.9331 - loss: 0.1875 - val_accuracy: 0.9214 - val_loss: 0.1941\n",
      "Epoch 5/100\n",
      "\u001b[1m138/138\u001b[0m \u001b[32m━━━━━━━━━━━━━━━━━━━━\u001b[0m\u001b[37m\u001b[0m \u001b[1m23s\u001b[0m 134ms/step - accuracy: 0.9339 - loss: 0.1877 - val_accuracy: 0.8895 - val_loss: 0.2831\n",
      "Epoch 6/100\n",
      "\u001b[1m138/138\u001b[0m \u001b[32m━━━━━━━━━━━━━━━━━━━━\u001b[0m\u001b[37m\u001b[0m \u001b[1m18s\u001b[0m 130ms/step - accuracy: 0.9290 - loss: 0.2056 - val_accuracy: 0.9182 - val_loss: 0.2077\n",
      "Epoch 7/100\n",
      "\u001b[1m138/138\u001b[0m \u001b[32m━━━━━━━━━━━━━━━━━━━━\u001b[0m\u001b[37m\u001b[0m \u001b[1m19s\u001b[0m 134ms/step - accuracy: 0.9342 - loss: 0.1882 - val_accuracy: 0.9159 - val_loss: 0.2131\n",
      "Epoch 8/100\n",
      "\u001b[1m138/138\u001b[0m \u001b[32m━━━━━━━━━━━━━━━━━━━━\u001b[0m\u001b[37m\u001b[0m \u001b[1m20s\u001b[0m 128ms/step - accuracy: 0.9429 - loss: 0.1654 - val_accuracy: 0.9041 - val_loss: 0.2445\n",
      "Epoch 9/100\n",
      "\u001b[1m138/138\u001b[0m \u001b[32m━━━━━━━━━━━━━━━━━━━━\u001b[0m\u001b[37m\u001b[0m \u001b[1m18s\u001b[0m 105ms/step - accuracy: 0.9399 - loss: 0.1749 - val_accuracy: 0.9100 - val_loss: 0.2323\n",
      "Epoch 10/100\n",
      "\u001b[1m138/138\u001b[0m \u001b[32m━━━━━━━━━━━━━━━━━━━━\u001b[0m\u001b[37m\u001b[0m \u001b[1m16s\u001b[0m 115ms/step - accuracy: 0.9424 - loss: 0.1615 - val_accuracy: 0.9105 - val_loss: 0.2291\n",
      "Epoch 11/100\n",
      "\u001b[1m138/138\u001b[0m \u001b[32m━━━━━━━━━━━━━━━━━━━━\u001b[0m\u001b[37m\u001b[0m \u001b[1m20s\u001b[0m 109ms/step - accuracy: 0.9513 - loss: 0.1454 - val_accuracy: 0.9059 - val_loss: 0.2402\n",
      "Epoch 12/100\n",
      "\u001b[1m138/138\u001b[0m \u001b[32m━━━━━━━━━━━━━━━━━━━━\u001b[0m\u001b[37m\u001b[0m \u001b[1m15s\u001b[0m 108ms/step - accuracy: 0.9516 - loss: 0.1419 - val_accuracy: 0.9064 - val_loss: 0.2450\n",
      "Epoch 13/100\n",
      "\u001b[1m138/138\u001b[0m \u001b[32m━━━━━━━━━━━━━━━━━━━━\u001b[0m\u001b[37m\u001b[0m \u001b[1m21s\u001b[0m 108ms/step - accuracy: 0.9490 - loss: 0.1562 - val_accuracy: 0.8982 - val_loss: 0.2870\n",
      "Epoch 14/100\n",
      "\u001b[1m138/138\u001b[0m \u001b[32m━━━━━━━━━━━━━━━━━━━━\u001b[0m\u001b[37m\u001b[0m \u001b[1m15s\u001b[0m 110ms/step - accuracy: 0.9451 - loss: 0.1497 - val_accuracy: 0.9077 - val_loss: 0.2531\n",
      "Epoch 15/100\n",
      "\u001b[1m138/138\u001b[0m \u001b[32m━━━━━━━━━━━━━━━━━━━━\u001b[0m\u001b[37m\u001b[0m \u001b[1m15s\u001b[0m 110ms/step - accuracy: 0.9532 - loss: 0.1348 - val_accuracy: 0.8986 - val_loss: 0.2865\n",
      "Epoch 16/100\n",
      "\u001b[1m138/138\u001b[0m \u001b[32m━━━━━━━━━━━━━━━━━━━━\u001b[0m\u001b[37m\u001b[0m \u001b[1m16s\u001b[0m 112ms/step - accuracy: 0.9504 - loss: 0.1468 - val_accuracy: 0.9095 - val_loss: 0.2426\n",
      "Epoch 17/100\n",
      "\u001b[1m138/138\u001b[0m \u001b[32m━━━━━━━━━━━━━━━━━━━━\u001b[0m\u001b[37m\u001b[0m \u001b[1m20s\u001b[0m 109ms/step - accuracy: 0.9557 - loss: 0.1310 - val_accuracy: 0.8764 - val_loss: 0.3376\n",
      "Epoch 17: early stopping\n",
      "Restoring model weights from the end of the best epoch: 2.\n",
      "\u001b[1m69/69\u001b[0m \u001b[32m━━━━━━━━━━━━━━━━━━━━\u001b[0m\u001b[37m\u001b[0m \u001b[1m4s\u001b[0m 45ms/step\n",
      "Training ke- 5\n",
      "              precision    recall  f1-score   support\n",
      "\n",
      "           0       0.81      0.92      0.86       672\n",
      "           1       0.96      0.78      0.86       239\n",
      "           2       0.96      0.92      0.94      1289\n",
      "\n",
      "    accuracy                           0.91      2200\n",
      "   macro avg       0.91      0.87      0.89      2200\n",
      "weighted avg       0.91      0.91      0.91      2200\n",
      "\n",
      "======================================================\n",
      "\n",
      "\n",
      "\n",
      "Rata-rata Accuracy:  0.87\n"
     ]
    }
   ],
   "source": [
    "# Untuk lebih menyakinkan lagi, kita juga bisa melakukan \"Cross Validation\"\n",
    "import numpy as np\n",
    "from sklearn.metrics import classification_report\n",
    "from sklearn.metrics import accuracy_score\n",
    "from sklearn.model_selection import KFold\n",
    "\n",
    "kf = KFold(n_splits=5,random_state=1,shuffle=True)\n",
    "\n",
    "accuracies = []\n",
    "\n",
    "label = y_hot\n",
    "\n",
    "for iteration, data in enumerate(kf.split(X), start=1):\n",
    "\n",
    "    data_train   = X[data[0]]\n",
    "    target_train = label[data[0]]\n",
    "\n",
    "    data_test    = X[data[1]]\n",
    "    target_test  = label[data[1]]\n",
    "\n",
    "\n",
    "    model_lstm.compile(\n",
    "    optimizer=tf.keras.optimizers.SGD(learning_rate=0.075),\n",
    "    loss='CategoricalCrossentropy',\n",
    "    metrics=['accuracy'])\n",
    "\n",
    "    history = model_lstm.fit(\n",
    "    data_train,\n",
    "    target_train,\n",
    "    epochs = 100,\n",
    "    validation_data = (data_test, target_test),\n",
    "    callbacks=[es],\n",
    "    batch_size=64,\n",
    "    verbose=1,\n",
    "    )\n",
    "\n",
    "    predictions = model_lstm.predict(X_val)\n",
    "    y_pred = predictions\n",
    "\n",
    "    # for the current fold only\n",
    "    accuracy = accuracy_score(y_val.argmax(axis=1), y_pred.argmax(axis=1))\n",
    "\n",
    "    print(\"Training ke-\", iteration)\n",
    "    print(classification_report(y_val.argmax(axis=1), y_pred.argmax(axis=1)))\n",
    "    print(\"======================================================\")\n",
    "\n",
    "    accuracies.append(accuracy)\n",
    "\n",
    "# this is the average accuracy over all folds\n",
    "average_accuracy = np.mean(accuracies)\n",
    "\n",
    "print()\n",
    "print()\n",
    "print()\n",
    "print(\"Rata-rata Accuracy: \", round(average_accuracy,2))"
   ]
  },
  {
   "cell_type": "markdown",
   "metadata": {},
   "source": [
    "# Save Model"
   ]
  },
  {
   "cell_type": "code",
   "execution_count": 36,
   "metadata": {},
   "outputs": [
    {
     "name": "stderr",
     "output_type": "stream",
     "text": [
      "WARNING:absl:You are saving your model as an HDF5 file via `model.save()` or `keras.saving.save_model(model)`. This file format is considered legacy. We recommend using instead the native Keras format, e.g. `model.save('my_model.keras')` or `keras.saving.save_model(model, 'my_model.keras')`. \n"
     ]
    },
    {
     "name": "stdout",
     "output_type": "stream",
     "text": [
      "Model berhasil disimpan!\n"
     ]
    }
   ],
   "source": [
    "model_lstm.save('lstm_model.h5')\n",
    "print(\"Model berhasil disimpan!\")"
   ]
  },
  {
   "cell_type": "code",
   "execution_count": 37,
   "metadata": {},
   "outputs": [
    {
     "name": "stdout",
     "output_type": "stream",
     "text": [
      "Model berhasil disimpan!\n"
     ]
    }
   ],
   "source": [
    "model_lstm.save('lstm_model.keras')\n",
    "print(\"Model berhasil disimpan!\")"
   ]
  },
  {
   "cell_type": "markdown",
   "metadata": {},
   "source": [
    "g. Predict"
   ]
  },
  {
   "cell_type": "code",
   "execution_count": 38,
   "metadata": {},
   "outputs": [
    {
     "name": "stderr",
     "output_type": "stream",
     "text": [
      "WARNING:absl:Compiled the loaded model, but the compiled metrics have yet to be built. `model.compile_metrics` will be empty until you train or evaluate the model.\n"
     ]
    },
    {
     "name": "stdout",
     "output_type": "stream",
     "text": [
      "Original text: babi lo prab*w* anjing gua sumpahin kamu mati saja . dasar sampah masyarakat .1234\n",
      "Cleaned text: babi lo prab w anjing gua sumpahin kamu mati saja dasar sampah masyarakat \n",
      "\u001b[1m1/1\u001b[0m \u001b[32m━━━━━━━━━━━━━━━━━━━━\u001b[0m\u001b[37m\u001b[0m \u001b[1m1s\u001b[0m 812ms/step\n",
      "Sentiment :\n",
      "negatif\n"
     ]
    }
   ],
   "source": [
    "# Memuat model\n",
    "model_lstm = load_model('lstm_model.h5')\n",
    "\n",
    "# Memuat tokenizer\n",
    "with open('tokenizer.pickle', 'rb') as handle:\n",
    "    tokenizer = pickle.load(handle)\n",
    "\n",
    "def cleansing(text):\n",
    "    text = re.sub(r'\\\\t|\\\\n|\\\\u', ' ', text) #Menghapus karakter khusus seperti tab, baris baru, karakter Unicode, dan backslash.\n",
    "    text = re.sub(r\"https?:[^\\s]+\", ' ', text)  # Menghapus http / https\n",
    "    text = re.sub(r'(\\b\\w+)-\\1\\b', r'\\1', text)\n",
    "    text = re.sub(r'[\\\\x]+[a-z0-9]{2}', '', text)  # Menghapus karakter yang dimulai dengan '\\x' diikuti oleh dua karakter huruf atau angka\n",
    "    # text = re.sub(r'(\\d+)', r' \\1 ', text)  # Memisahkan angka dari teks\n",
    "    text = re.sub(r'[^a-zA-Z]+', ' ', text)  # Menghapus karakter kecuali huruf, dan spasi\n",
    "    text = re.sub(r'\\brt\\b|\\buser\\b', ' ', text) # Menghapus kata-kata 'rt' dan 'user'\n",
    "    text = text.lower()\n",
    "    return text\n",
    "\n",
    "class_labels = ['negatif', 'netral', 'positif']\n",
    "\n",
    "original_text = 'babi lo prab*w* anjing gua sumpahin kamu mati saja . dasar sampah masyarakat .1234'\n",
    "cleaned_text = cleansing(original_text)\n",
    "print(\"Original text:\", original_text)\n",
    "print(\"Cleaned text:\", cleaned_text)\n",
    "\n",
    "text_sequence = tokenizer.texts_to_sequences([cleaned_text])\n",
    "text_padded = pad_sequences(text_sequence, maxlen=55)\n",
    "\n",
    "result = model_lstm.predict(text_padded)[0]\n",
    "predicted_class = np.argmax(result)\n",
    "predicted_label = class_labels[predicted_class]\n",
    "\n",
    "print('Sentiment :')\n",
    "print(predicted_label)"
   ]
  }
 ],
 "metadata": {
  "kernelspec": {
   "display_name": "Python 3",
   "language": "python",
   "name": "python3"
  },
  "language_info": {
   "codemirror_mode": {
    "name": "ipython",
    "version": 3
   },
   "file_extension": ".py",
   "mimetype": "text/x-python",
   "name": "python",
   "nbconvert_exporter": "python",
   "pygments_lexer": "ipython3",
   "version": "3.9.18"
  }
 },
 "nbformat": 4,
 "nbformat_minor": 2
}
